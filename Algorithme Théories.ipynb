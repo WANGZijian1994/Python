{
 "cells": [
  {
   "cell_type": "markdown",
   "metadata": {},
   "source": [
    "### Algorithme"
   ]
  },
  {
   "cell_type": "code",
   "execution_count": 3,
   "metadata": {
    "scrolled": true
   },
   "outputs": [
    {
     "name": "stdout",
     "output_type": "stream",
     "text": [
      "Big O Notation : \n"
     ]
    },
    {
     "data": {
      "text/html": [
       "<div>\n",
       "<style scoped>\n",
       "    .dataframe tbody tr th:only-of-type {\n",
       "        vertical-align: middle;\n",
       "    }\n",
       "\n",
       "    .dataframe tbody tr th {\n",
       "        vertical-align: top;\n",
       "    }\n",
       "\n",
       "    .dataframe thead th {\n",
       "        text-align: right;\n",
       "    }\n",
       "</style>\n",
       "<table border=\"1\" class=\"dataframe\">\n",
       "  <thead>\n",
       "    <tr style=\"text-align: right;\">\n",
       "      <th></th>\n",
       "      <th>provides</th>\n",
       "      <th>examples</th>\n",
       "      <th>shorthand for</th>\n",
       "      <th>used to</th>\n",
       "    </tr>\n",
       "  </thead>\n",
       "  <tbody>\n",
       "    <tr>\n",
       "      <th>Big θ</th>\n",
       "      <td>asymptotic order of growth</td>\n",
       "      <td>θ(N**2)</td>\n",
       "      <td>5(N**2)+2InN+10N</td>\n",
       "      <td>classify algorithms</td>\n",
       "    </tr>\n",
       "    <tr>\n",
       "      <th>Big oh</th>\n",
       "      <td>O(N**2) and smaller</td>\n",
       "      <td>O(N**2)</td>\n",
       "      <td>2InN+10N</td>\n",
       "      <td>develop upper bounds</td>\n",
       "    </tr>\n",
       "    <tr>\n",
       "      <th>Big Oméga</th>\n",
       "      <td>Ω(N**2) and larger</td>\n",
       "      <td>Ω(N**2)</td>\n",
       "      <td>5(N**3)+2InN+10N</td>\n",
       "      <td>develop lower bounds</td>\n",
       "    </tr>\n",
       "  </tbody>\n",
       "</table>\n",
       "</div>"
      ],
      "text/plain": [
       "                             provides examples     shorthand for  \\\n",
       "Big θ      asymptotic order of growth  θ(N**2)  5(N**2)+2InN+10N   \n",
       "Big oh            O(N**2) and smaller  O(N**2)          2InN+10N   \n",
       "Big Oméga          Ω(N**2) and larger  Ω(N**2)  5(N**3)+2InN+10N   \n",
       "\n",
       "                        used to  \n",
       "Big θ       classify algorithms  \n",
       "Big oh     develop upper bounds  \n",
       "Big Oméga  develop lower bounds  "
      ]
     },
     "execution_count": 3,
     "metadata": {},
     "output_type": "execute_result"
    }
   ],
   "source": [
    "import pandas as pd\n",
    "L1 = [\"asymptotic order of growth\",\"O(N**2) and smaller\",\"Ω(N**2) and larger\"]\n",
    "L2 = [\"θ(N**2)\",\"O(N**2)\",\"Ω(N**2)\"]\n",
    "L3 = [\"5(N**2)+2InN+10N\",\"2InN+10N\",\"5(N**3)+2InN+10N\"]\n",
    "L4 = [\"classify algorithms\",\"develop upper bounds\",\"develop lower bounds\"]\n",
    "Index = [\"Big θ\",\"Big oh\",\"Big Oméga\"]\n",
    "Algorithm = pd.DataFrame({\"provides\":L1,\"examples\":L2,\"shorthand for\":L3,\"used to\":L4},index = Index)\n",
    "print(\"Big O Notation : \")\n",
    "Algorithm"
   ]
  },
  {
   "cell_type": "code",
   "execution_count": 60,
   "metadata": {},
   "outputs": [],
   "source": [
    "def timer(f):\n",
    "    import time\n",
    "    start = time.time()\n",
    "    f\n",
    "    fin = time.time()\n",
    "    return round(fin-start,100)"
   ]
  },
  {
   "cell_type": "markdown",
   "metadata": {},
   "source": [
    "### Big O Notation\n",
    "\n",
    "O(1)"
   ]
  },
  {
   "cell_type": "code",
   "execution_count": 24,
   "metadata": {
    "scrolled": true
   },
   "outputs": [
    {
     "name": "stdout",
     "output_type": "stream",
     "text": [
      "16\n",
      "0.0\n",
      "0.0\n"
     ]
    }
   ],
   "source": [
    "def square(x):\n",
    "    return x*x\n",
    "\n",
    "print(square(4))\n",
    "print(timer(square(4)))\n",
    "print(timer(square(40000000000)))"
   ]
  },
  {
   "cell_type": "markdown",
   "metadata": {},
   "source": [
    "O(n)"
   ]
  },
  {
   "cell_type": "code",
   "execution_count": 59,
   "metadata": {
    "scrolled": true
   },
   "outputs": [
    {
     "name": "stdout",
     "output_type": "stream",
     "text": [
      "(10, 3.0994415283203125e-06)\n",
      "(99999, 0.008873939514160156)\n"
     ]
    }
   ],
   "source": [
    "def trouver_Max(l):# l est une liste\n",
    "    import time\n",
    "    start = time.time()\n",
    "    if l==None:\n",
    "        return None\n",
    "    else:\n",
    "        Max = l[0]\n",
    "        for i in range(1,len(l)):\n",
    "            if(Max < l[i]):\n",
    "                Max = l[i]\n",
    "    fin = time.time()\n",
    "    time = round(fin-start,30)\n",
    "    return Max,time\n",
    "\n",
    "L1 = [i for i in range(1,11)]\n",
    "print(trouver_Max(L1))\n",
    "L2 = [i for i in range(100000)]\n",
    "print(trouver_Max(L2))"
   ]
  },
  {
   "cell_type": "code",
   "execution_count": 47,
   "metadata": {
    "scrolled": false
   },
   "outputs": [
    {
     "name": "stdout",
     "output_type": "stream",
     "text": [
      "0.0\n",
      "2.14576721191406e-06\n"
     ]
    }
   ],
   "source": [
    "print(timer(trouver_Max(l1)))\n",
    "print(timer(trouver_Max(l2)))"
   ]
  },
  {
   "cell_type": "code",
   "execution_count": 60,
   "metadata": {},
   "outputs": [
    {
     "name": "stdout",
     "output_type": "stream",
     "text": [
      "20\n"
     ]
    }
   ],
   "source": [
    "import random\n",
    "\n",
    "random_list = [[int(random.random()*1000) for i in range(1000 * n)]for n in range(1,21)]\n",
    "rst1 = [trouver_Max(L) for L in random_list]\n",
    "print(len(rst1))"
   ]
  },
  {
   "cell_type": "code",
   "execution_count": 1,
   "metadata": {},
   "outputs": [],
   "source": [
    "import matplotlib \n",
    "from matplotlib import pyplot as plt\n",
    "%matplotlib inline"
   ]
  },
  {
   "cell_type": "code",
   "execution_count": 68,
   "metadata": {
    "scrolled": false
   },
   "outputs": [
    {
     "name": "stdout",
     "output_type": "stream",
     "text": [
      "20\n",
      "20\n",
      "Alors, c'est O(n) : \n"
     ]
    },
    {
     "data": {
      "image/png": "[encoded data removed]",
      "text/plain": [
       "<Figure size 432x288 with 1 Axes>"
      ]
     },
     "metadata": {
      "needs_background": "light"
     },
     "output_type": "display_data"
    }
   ],
   "source": [
    "z1 = [1000*n for n in range(1,21)]\n",
    "z2 = list(zip(*rst1))[1]\n",
    "print(len(z1))\n",
    "print(len(z2))\n",
    "plt.plot(z1,z2)\n",
    "print(\"Alors, c'est O(n) : \")"
   ]
  },
  {
   "cell_type": "code",
   "execution_count": 2,
   "metadata": {},
   "outputs": [
    {
     "name": "stdout",
     "output_type": "stream",
     "text": [
      "5050\n"
     ]
    }
   ],
   "source": [
    "# O(n)\n",
    "def mysum(n):\n",
    "    montant = 0\n",
    "    for i in range(n+1):\n",
    "        montant+=i\n",
    "    return montant\n",
    "print(mysum(100))"
   ]
  },
  {
   "cell_type": "code",
   "execution_count": 21,
   "metadata": {},
   "outputs": [
    {
     "name": "stdout",
     "output_type": "stream",
     "text": [
      "5050\n"
     ]
    }
   ],
   "source": [
    "# O(n)\n",
    "def mysum2(n):\n",
    "    if(n==1):\n",
    "        return 1\n",
    "    else:\n",
    "        return mysum2(n-1)+n\n",
    "print(mysum2(100))"
   ]
  },
  {
   "cell_type": "code",
   "execution_count": 37,
   "metadata": {},
   "outputs": [
    {
     "data": {
      "text/plain": [
       "55"
      ]
     },
     "execution_count": 37,
     "metadata": {},
     "output_type": "execute_result"
    }
   ],
   "source": [
    "# O(n)\n",
    "def Febonacci3(n):\n",
    "    assert(n>=0)\n",
    "    a,b = 0,1\n",
    "    for i in range(1,n+1):\n",
    "        a,b = b,a+b\n",
    "    return a\n",
    "Febonacci3(10)"
   ]
  },
  {
   "cell_type": "code",
   "execution_count": 18,
   "metadata": {
    "scrolled": true
   },
   "outputs": [
    {
     "name": "stdout",
     "output_type": "stream",
     "text": [
      "[100000, 200000, 300000, 400000, 500000, 600000, 700000, 800000, 900000, 1000000]\n",
      "[5000050000, 20000100000, 45000150000, 80000200000, 125000250000, 180000300000, 245000350000, 320000400000, 405000450000, 500000500000]\n",
      "[9.5367431640625e-07, 9.5367431640625e-07, 2.1457672119140625e-06, 1.1920928955078125e-06, 0.0, 9.5367431640625e-07, 9.5367431640625e-07, 9.5367431640625e-07, 3.0994415283203125e-06, 9.5367431640625e-07]\n"
     ]
    }
   ],
   "source": [
    "L1 = [100000*i for i in range(1,11)]\n",
    "print(L1)\n",
    "L2 = [mysum(i) for i in L1]\n",
    "print(L2)\n",
    "L3 = [timer(mysum(i)) for i in L1]\n",
    "print(L3)"
   ]
  },
  {
   "cell_type": "code",
   "execution_count": 19,
   "metadata": {
    "scrolled": true
   },
   "outputs": [
    {
     "data": {
      "text/plain": [
       "[<matplotlib.lines.Line2D at 0x11aee9828>]"
      ]
     },
     "execution_count": 19,
     "metadata": {},
     "output_type": "execute_result"
    },
    {
     "data": {
      "image/png": "[encoded data removed]",
      "text/plain": [
       "<Figure size 432x288 with 1 Axes>"
      ]
     },
     "metadata": {
      "needs_background": "light"
     },
     "output_type": "display_data"
    }
   ],
   "source": [
    "plt.plot(L1,L2)"
   ]
  },
  {
   "cell_type": "code",
   "execution_count": 20,
   "metadata": {},
   "outputs": [
    {
     "data": {
      "text/plain": [
       "[<matplotlib.lines.Line2D at 0x11af3eef0>]"
      ]
     },
     "execution_count": 20,
     "metadata": {},
     "output_type": "execute_result"
    },
    {
     "data": {
      "image/png": "[encoded data removed]",
      "text/plain": [
       "<Figure size 432x288 with 1 Axes>"
      ]
     },
     "metadata": {
      "needs_background": "light"
     },
     "output_type": "display_data"
    }
   ],
   "source": [
    "plt.plot(L1,L3)"
   ]
  },
  {
   "cell_type": "markdown",
   "metadata": {},
   "source": [
    "O(n**2)\n",
    "\n",
    "def paires_minimales(l)"
   ]
  },
  {
   "cell_type": "code",
   "execution_count": 71,
   "metadata": {},
   "outputs": [],
   "source": [
    "l0 = [i for i in range(10)]\n",
    "l1 = [i for i in range(100)]\n",
    "l2 = [i for i in range(1000)]\n",
    "l3 = [i for i in range(10000)]\n",
    "l4 = [i for i in range(100000)]\n",
    "l5 = [i for i in range(1000000)]\n",
    "def list_has_duplicate(l):\n",
    "    for i in range(len(l)):\n",
    "        for j in range(i+1,len(l)):\n",
    "            if(l[i]==l[j]):\n",
    "                return True\n",
    "    else:\n",
    "        return False"
   ]
  },
  {
   "cell_type": "code",
   "execution_count": 77,
   "metadata": {
    "scrolled": true
   },
   "outputs": [
    {
     "name": "stdout",
     "output_type": "stream",
     "text": [
      "5\n",
      "5\n"
     ]
    }
   ],
   "source": [
    "L1 = [10**i for i in range(1,6)]\n",
    "L2 = [timer(list_has_duplicate(l0)),timer(list_has_duplicate(l1)),timer(list_has_duplicate(l2)),timer(list_has_duplicate(l3)),timer(list_has_duplicate(l4))]\n",
    "print(len(L1))\n",
    "print(len(L2))    "
   ]
  },
  {
   "cell_type": "code",
   "execution_count": 78,
   "metadata": {
    "scrolled": true
   },
   "outputs": [
    {
     "data": {
      "text/plain": [
       "[<matplotlib.lines.Line2D at 0x121848fd0>]"
      ]
     },
     "execution_count": 78,
     "metadata": {},
     "output_type": "execute_result"
    },
    {
     "data": {
      "image/png": "[encoded data removed]",
      "text/plain": [
       "<Figure size 432x288 with 1 Axes>"
      ]
     },
     "metadata": {
      "needs_background": "light"
     },
     "output_type": "display_data"
    }
   ],
   "source": [
    "plt.plot(L1,L2)"
   ]
  },
  {
   "cell_type": "markdown",
   "metadata": {},
   "source": [
    "### O(2**n)\n",
    "\n",
    "### Fibonacci\n",
    "\n",
    "A(n+1) = A(n) +A(n-1)"
   ]
  },
  {
   "cell_type": "code",
   "execution_count": 24,
   "metadata": {},
   "outputs": [
    {
     "name": "stdout",
     "output_type": "stream",
     "text": [
      "[0, 1, 1, 2, 3, 5, 8, 13, 21, 34, 55, 89, 144, 233, 377]\n"
     ]
    }
   ],
   "source": [
    "import pprint\n",
    "def Fibonacci(start1,start2):\n",
    "    L = [int(start1),int(start2)]\n",
    "    for i in range(13):\n",
    "        tmp = start1 + start2\n",
    "        L.append(tmp)\n",
    "        start1 = start2\n",
    "        start2 = tmp\n",
    "    return L\n",
    "pprint.pprint(Fibonacci(0,1))"
   ]
  },
  {
   "cell_type": "markdown",
   "metadata": {},
   "source": [
    "### Mais \n",
    "\n",
    "Avec la récursion, ce sera plus facile"
   ]
  },
  {
   "cell_type": "code",
   "execution_count": 22,
   "metadata": {},
   "outputs": [],
   "source": [
    "def Febonacci(n):\n",
    "    if n==0:\n",
    "        return 0\n",
    "    elif n==1:\n",
    "        return 1\n",
    "    else:\n",
    "        return Febonacci(n-1)+Febonacci(n-2)"
   ]
  },
  {
   "cell_type": "code",
   "execution_count": 26,
   "metadata": {},
   "outputs": [
    {
     "name": "stdout",
     "output_type": "stream",
     "text": [
      "[0, 1, 1, 2, 3, 5, 8, 13, 21, 34, 55, 89, 144, 233, 377]\n"
     ]
    }
   ],
   "source": [
    "L = [Febonacci(i) for i in range(15)]\n",
    "pprint.pprint(L)"
   ]
  },
  {
   "cell_type": "markdown",
   "metadata": {},
   "source": [
    "### Comparaison d'efficacité entre la fonction de récursion et celle sans récursion\n",
    "\n",
    "Avec un plan plus facile à comprendre, la récursion coûte plus de temps. "
   ]
  },
  {
   "cell_type": "code",
   "execution_count": 89,
   "metadata": {},
   "outputs": [
    {
     "name": "stdout",
     "output_type": "stream",
     "text": [
      "Sans Récursion : \n",
      "0.0\n",
      "Avec Récursion : \n",
      "0.0004942417144775391\n"
     ]
    }
   ],
   "source": [
    "import time\n",
    "print(\"Sans Récursion : \")\n",
    "print(timer(Fibonacci(0,1)))\n",
    "print(\"Avec Récursion : \")\n",
    "start = time.time()\n",
    "L = [Febonacci(i) for i in range(15)]\n",
    "t = time.time() - start\n",
    "print(t)"
   ]
  },
  {
   "cell_type": "code",
   "execution_count": 36,
   "metadata": {
    "scrolled": true
   },
   "outputs": [
    {
     "data": {
      "text/plain": [
       "[<matplotlib.lines.Line2D at 0x11b8245f8>]"
      ]
     },
     "execution_count": 36,
     "metadata": {},
     "output_type": "execute_result"
    },
    {
     "data": {
      "image/png": "[encoded data removed]",
      "text/plain": [
       "<Figure size 432x288 with 1 Axes>"
      ]
     },
     "metadata": {
      "needs_background": "light"
     },
     "output_type": "display_data"
    }
   ],
   "source": [
    "L1 = [i for i in range(1,30)]\n",
    "L = [i/1000 for i in L1]\n",
    "T1 = [timer(Febonacci(i)) for i in L1]\n",
    "plt.plot(L,T1)"
   ]
  },
  {
   "cell_type": "markdown",
   "metadata": {},
   "source": [
    "### Une méthode plus efficace"
   ]
  },
  {
   "cell_type": "code",
   "execution_count": 38,
   "metadata": {},
   "outputs": [
    {
     "name": "stdout",
     "output_type": "stream",
     "text": [
      "[0, 1, 1, 2, 3, 5, 8, 13, 21, 34, 55, 89, 144, 233, 377]\n"
     ]
    }
   ],
   "source": [
    "def Febonacci4(n):\n",
    "    assert(n>=0)\n",
    "    a,b = 0,1\n",
    "    for i in range(1,n+1):\n",
    "        a,b = b,a+b\n",
    "    return a\n",
    "L = [Febonacci4(i) for i in range(15)]\n",
    "print(L)"
   ]
  },
  {
   "cell_type": "markdown",
   "metadata": {},
   "source": [
    "### Ou Stocker des variables en cours du calcul"
   ]
  },
  {
   "cell_type": "code",
   "execution_count": 41,
   "metadata": {},
   "outputs": [
    {
     "data": {
      "text/plain": [
       "(5, 3)"
      ]
     },
     "execution_count": 41,
     "metadata": {},
     "output_type": "execute_result"
    }
   ],
   "source": [
    "def Febonacci5(n):\n",
    "    assert(n>=1)\n",
    "    if(n<=1):\n",
    "        return(n,0)\n",
    "    a,b=0,1\n",
    "    (a,b)=Febonacci5(n-1)\n",
    "    return (a+b,a)\n",
    "Febonacci5(5)   "
   ]
  },
  {
   "cell_type": "markdown",
   "metadata": {},
   "source": [
    "### Binary Search\n",
    "\n",
    "Given a sorted list of numbers, find the index of a specific value in the list,if no such value return -1\n",
    "\n",
    "A solution brut force"
   ]
  },
  {
   "cell_type": "code",
   "execution_count": 53,
   "metadata": {},
   "outputs": [
    {
     "name": "stdout",
     "output_type": "stream",
     "text": [
      "[1, 2, 3, 4, 5, 6, 7, 8, 9, 10, 5, 7, 6]\n"
     ]
    }
   ],
   "source": [
    "L = [i for i in range(1,11)] + [5,7,6]\n",
    "print(L)\n",
    "def IndexOf(L,a):\n",
    "    if a not in L:\n",
    "        return -1\n",
    "    index = 0\n",
    "    Index = []\n",
    "    for i in L:\n",
    "        if a==i:\n",
    "            Index.append(index)\n",
    "        index+=1\n",
    "    return Index"
   ]
  },
  {
   "cell_type": "code",
   "execution_count": 61,
   "metadata": {
    "scrolled": false
   },
   "outputs": [
    {
     "name": "stdout",
     "output_type": "stream",
     "text": [
      "[4, 10]\n",
      "-1\n",
      "0.0\n",
      "0.0\n"
     ]
    }
   ],
   "source": [
    "print(IndexOf(L,5))\n",
    "print(IndexOf(L,11))\n",
    "print(timer(IndexOf(L,5)))\n",
    "print(timer(IndexOf(L,11)))"
   ]
  },
  {
   "cell_type": "markdown",
   "metadata": {},
   "source": [
    "### Log(n)\n",
    "\n",
    "### Binary Search for a sorted group of data\n",
    "\n",
    "A solution faster: like guess a number between 1 and 100"
   ]
  },
  {
   "cell_type": "code",
   "execution_count": 56,
   "metadata": {},
   "outputs": [
    {
     "data": {
      "text/plain": [
       "[1, 2, 3, 4, 5, 5, 6, 6, 7, 7, 8, 9, 10]"
      ]
     },
     "execution_count": 56,
     "metadata": {},
     "output_type": "execute_result"
    }
   ],
   "source": [
    "L1 = sorted(L)"
   ]
  },
  {
   "cell_type": "code",
   "execution_count": 96,
   "metadata": {},
   "outputs": [],
   "source": [
    "def Search_1(L,target):\n",
    "    Gauche = 0\n",
    "    Droite = len(L)-1\n",
    "    deviner = (Droite - Gauche)//2\n",
    "    if(target not in L):\n",
    "        return -1\n",
    "    while(target!=L[deviner]):\n",
    "        if(target>L[deviner]):\n",
    "            Gauche = deviner\n",
    "        else:\n",
    "            Droite = deviner\n",
    "        deviner = Gauche+(Droite - Gauche)//2\n",
    "        print(\"Gauche = \",Gauche,\"Droite = \",Droite,\"index deviné = \",deviner)\n",
    "        if(target==L[deviner]):\n",
    "            break\n",
    "    return deviner"
   ]
  },
  {
   "cell_type": "code",
   "execution_count": 105,
   "metadata": {},
   "outputs": [
    {
     "name": "stdout",
     "output_type": "stream",
     "text": [
      "Gauche =  6 Droite =  12 index deviné =  9\n",
      "Gauche =  9 Droite =  12 index deviné =  10\n",
      "10\n"
     ]
    }
   ],
   "source": [
    "l = [i for i in range(1,101)]\n",
    "print(Search_1(L1,8))"
   ]
  },
  {
   "cell_type": "code",
   "execution_count": 110,
   "metadata": {},
   "outputs": [
    {
     "name": "stdout",
     "output_type": "stream",
     "text": [
      "{'Prénom': 'Vincent', 'Prénom Chinois': 'Zijian', 'Nom': 'WANG', 'Âge': 25, 'Adresse': 'Le 14 Rue Lacuée 75012 Paris', 'Portable': '07 69 22 16 16', 'E-Mail': 'wangzijian75012@gmail.com ou wangzijian1994@hotmail.com'}\n"
     ]
    }
   ],
   "source": [
    "D = dict()\n",
    "D[\"Prénom\"] = \"Vincent\"\n",
    "D[\"Prénom Chinois\"] = \"Zijian\"\n",
    "D[\"Nom\"] = \"WANG\"\n",
    "D[\"Âge\"] = 25\n",
    "D[\"Adresse\"]=\"Le 14 Rue Lacuée 75012 Paris\"\n",
    "D[\"Portable\"]=\"07 69 22 16 16\"\n",
    "D[\"E-Mail\"]=\"wangzijian75012@gmail.com ou wangzijian1994@hotmail.com\"\n",
    "print(D)"
   ]
  },
  {
   "cell_type": "code",
   "execution_count": 111,
   "metadata": {},
   "outputs": [
    {
     "data": {
      "text/html": [
       "<div>\n",
       "<style scoped>\n",
       "    .dataframe tbody tr th:only-of-type {\n",
       "        vertical-align: middle;\n",
       "    }\n",
       "\n",
       "    .dataframe tbody tr th {\n",
       "        vertical-align: top;\n",
       "    }\n",
       "\n",
       "    .dataframe thead th {\n",
       "        text-align: right;\n",
       "    }\n",
       "</style>\n",
       "<table border=\"1\" class=\"dataframe\">\n",
       "  <thead>\n",
       "    <tr style=\"text-align: right;\">\n",
       "      <th></th>\n",
       "      <th>0</th>\n",
       "    </tr>\n",
       "  </thead>\n",
       "  <tbody>\n",
       "    <tr>\n",
       "      <th>Prénom</th>\n",
       "      <td>Vincent</td>\n",
       "    </tr>\n",
       "    <tr>\n",
       "      <th>Prénom Chinois</th>\n",
       "      <td>Zijian</td>\n",
       "    </tr>\n",
       "    <tr>\n",
       "      <th>Nom</th>\n",
       "      <td>WANG</td>\n",
       "    </tr>\n",
       "    <tr>\n",
       "      <th>Âge</th>\n",
       "      <td>25</td>\n",
       "    </tr>\n",
       "    <tr>\n",
       "      <th>Adresse</th>\n",
       "      <td>Le 14 Rue Lacuée 75012 Paris</td>\n",
       "    </tr>\n",
       "    <tr>\n",
       "      <th>Portable</th>\n",
       "      <td>07 69 22 16 16</td>\n",
       "    </tr>\n",
       "    <tr>\n",
       "      <th>E-Mail</th>\n",
       "      <td>wangzijian75012@gmail.com ou wangzijian1994@ho...</td>\n",
       "    </tr>\n",
       "  </tbody>\n",
       "</table>\n",
       "</div>"
      ],
      "text/plain": [
       "                                                                0\n",
       "Prénom                                                    Vincent\n",
       "Prénom Chinois                                             Zijian\n",
       "Nom                                                          WANG\n",
       "Âge                                                            25\n",
       "Adresse                              Le 14 Rue Lacuée 75012 Paris\n",
       "Portable                                           07 69 22 16 16\n",
       "E-Mail          wangzijian75012@gmail.com ou wangzijian1994@ho..."
      ]
     },
     "execution_count": 111,
     "metadata": {},
     "output_type": "execute_result"
    }
   ],
   "source": [
    "import pandas as pd\n",
    "m=[]\n",
    "n=[]\n",
    "for key,value in D.items():\n",
    "    m.append(key)\n",
    "    n.append(value)\n",
    "Info = pd.DataFrame(n,index=m)\n",
    "Info"
   ]
  },
  {
   "cell_type": "code",
   "execution_count": null,
   "metadata": {},
   "outputs": [],
   "source": []
  }
 ],
 "metadata": {
  "kernelspec": {
   "display_name": "Python 3",
   "language": "python",
   "name": "python3"
  },
  "language_info": {
   "codemirror_mode": {
    "name": "ipython",
    "version": 3
   },
   "file_extension": ".py",
   "mimetype": "text/x-python",
   "name": "python",
   "nbconvert_exporter": "python",
   "pygments_lexer": "ipython3",
   "version": "3.7.3"
  }
 },
 "nbformat": 4,
 "nbformat_minor": 2
}
