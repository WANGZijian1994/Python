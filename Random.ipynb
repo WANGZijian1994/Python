{
 "cells": [
  {
   "cell_type": "code",
   "execution_count": 1,
   "metadata": {},
   "outputs": [],
   "source": [
    "import random"
   ]
  },
  {
   "cell_type": "markdown",
   "metadata": {},
   "source": [
    "### Pour générer un entier compris entre 0 et 1, 0 inclus mais 1 exclu:\n",
    "\n",
    "random.random()"
   ]
  },
  {
   "cell_type": "code",
   "execution_count": 3,
   "metadata": {},
   "outputs": [
    {
     "name": "stdout",
     "output_type": "stream",
     "text": [
      "0.6362442933652327\n"
     ]
    }
   ],
   "source": [
    "a =random.random()\n",
    "print(a)"
   ]
  },
  {
   "cell_type": "markdown",
   "metadata": {},
   "source": [
    "### Pour générer un entier compris entre un entier a et un entier b, a inclu et b inclu:\n",
    "\n",
    "random.randint(a,b)"
   ]
  },
  {
   "cell_type": "code",
   "execution_count": 6,
   "metadata": {},
   "outputs": [
    {
     "name": "stdout",
     "output_type": "stream",
     "text": [
      "9\n",
      "7\n",
      "4\n",
      "6\n",
      "10\n"
     ]
    }
   ],
   "source": [
    "for i in range(5):\n",
    "    print(random.randint(3,10))"
   ]
  },
  {
   "cell_type": "markdown",
   "metadata": {},
   "source": [
    "### Pour générer un entier compris entre un entier a et un entier b et avec un pas c, a inclu mais b exclu:\n",
    "\n",
    "random.randrange(a,b,c)a=0,c=0 par défault"
   ]
  },
  {
   "cell_type": "code",
   "execution_count": 10,
   "metadata": {},
   "outputs": [
    {
     "name": "stdout",
     "output_type": "stream",
     "text": [
      "9\n",
      "5\n",
      "7\n",
      "9\n",
      "9\n"
     ]
    }
   ],
   "source": [
    "for i in range(5):\n",
    "    print(random.randrange(3,10,2))#都是奇数"
   ]
  },
  {
   "cell_type": "code",
   "execution_count": 13,
   "metadata": {},
   "outputs": [
    {
     "name": "stdout",
     "output_type": "stream",
     "text": [
      "6\n"
     ]
    }
   ],
   "source": [
    "a1=random.randrange(10)# randint(0,9)\n",
    "print(a1)"
   ]
  },
  {
   "cell_type": "markdown",
   "metadata": {},
   "source": [
    "### Pour choisir au hasard un élément dans une liste ou une tuple, on utilise \n",
    "\n",
    "random.choice()"
   ]
  },
  {
   "cell_type": "code",
   "execution_count": 19,
   "metadata": {},
   "outputs": [
    {
     "name": "stdout",
     "output_type": "stream",
     "text": [
      "nord\n",
      "bleu\n"
     ]
    }
   ],
   "source": [
    "uneliste = [\"nord\",\"sud\",\"est\",\"ouest\"]\n",
    "untuple = (\"jaune\",\"vert\",\"bleu\",\"noir\")\n",
    "def tri(a):\n",
    "    result = random.choice(a)\n",
    "    return result\n",
    "print(tri(uneliste))\n",
    "print(tri(untuple))"
   ]
  },
  {
   "cell_type": "markdown",
   "metadata": {},
   "source": [
    "### Pour choisir au hasard n'importe combien d'éléments dans une liste ou une tuple, on utilise \n",
    "\n",
    "random.sample()"
   ]
  },
  {
   "cell_type": "code",
   "execution_count": 21,
   "metadata": {},
   "outputs": [
    {
     "name": "stdout",
     "output_type": "stream",
     "text": [
      "Saissisez combien vous voulez trier : 2\n"
     ]
    },
    {
     "data": {
      "text/plain": [
       "['est', 'sud']"
      ]
     },
     "execution_count": 21,
     "metadata": {},
     "output_type": "execute_result"
    }
   ],
   "source": [
    "def triPlusieurs(a):\n",
    "    n=int(input(\"Saissisez combien vous voulez trier : \"))\n",
    "    while n>len(a):\n",
    "        print(\"Erreur,essayez encore une fois : \")\n",
    "        n=int(input(\"Saissisez combien vous voulez trier : \"))\n",
    "    else:\n",
    "        pass\n",
    "    result = random.sample(a,n)\n",
    "    return result\n",
    "triPlusieurs(uneliste)"
   ]
  },
  {
   "cell_type": "code",
   "execution_count": 22,
   "metadata": {},
   "outputs": [
    {
     "name": "stdout",
     "output_type": "stream",
     "text": [
      "Saissisez combien vous voulez trier : 3\n"
     ]
    },
    {
     "data": {
      "text/plain": [
       "['vert', 'noir', 'jaune']"
      ]
     },
     "execution_count": 22,
     "metadata": {},
     "output_type": "execute_result"
    }
   ],
   "source": [
    "triPlusieurs(untuple)"
   ]
  },
  {
   "cell_type": "markdown",
   "metadata": {},
   "source": [
    "### Pour mélanger les éléments dans une liste.\n",
    "\n",
    "random.shuffle()"
   ]
  },
  {
   "cell_type": "code",
   "execution_count": 24,
   "metadata": {},
   "outputs": [
    {
     "name": "stdout",
     "output_type": "stream",
     "text": [
      "['est', 'nord', 'sud', 'ouest']\n"
     ]
    }
   ],
   "source": [
    "uneliste = [\"nord\",\"sud\",\"est\",\"ouest\"]\n",
    "random.shuffle(uneliste)\n",
    "print(uneliste)"
   ]
  },
  {
   "cell_type": "markdown",
   "metadata": {},
   "source": [
    "# Exercice 1 \n",
    "\n",
    "Voici une liste de prénoms (faites un copier-coller en passant par un éditeur type notepad\n",
    "\n",
    "Aanor, Aaricia, Abbon, Abby, Abdel, Abdon, Abel, Abélard, Abélia, Abella, Abigaël, Abondance, Abraham,Acace,Achille,Acmé, Ada"
   ]
  },
  {
   "cell_type": "code",
   "execution_count": 30,
   "metadata": {},
   "outputs": [
    {
     "name": "stdout",
     "output_type": "stream",
     "text": [
      "Achille\n",
      "l1 =  ['Abondance', 'Abella', 'Abbon', 'Abélia', 'Aanor']\n",
      "l2 =  ['Abondance', 'Aanor', 'Abdel', 'Aaricia', 'Acace', 'Acmé', 'Abby', 'Abélia']\n",
      "['Abigaël', 'Abbon', 'Abella']\n"
     ]
    }
   ],
   "source": [
    "import random\n",
    "prénom = [\"Aanor\", \"Aaricia\", \"Abbon\", \"Abby\", \"Abdel\", \"Abdon\", \"Abel\", \"Abélard\", \"Abélia\", \"Abella\", \"Abigaël\", \"Abondance\", \"Abraham\",\"Acace\",\"Achille\",\"Acmé\", \"Ada\"]\n",
    "# Affecter un prénom tiré au hasard dans la liste\n",
    "nom = random.choice(prénom)\n",
    "print(nom)\n",
    "# Récupérer dans chacune des 2 listes l1 et l2, 5 et 8 prénoms tirés au hasard dans prénoms \n",
    "l1=random.sample(prénom,5)\n",
    "l2=random.sample(prénom,8)\n",
    "print(\"l1 = \",l1)\n",
    "print(\"l2 = \",l2)\n",
    "# Mélanger la liste de façon aléatoire puis, choisissez trois prénoms au hasard parmi les dix premiers obtenurs\n",
    "random.shuffle(prénom)\n",
    "DixPremiers = prénom[0:10]\n",
    "Trois_au_hasard = random.sample(DixPremiers,3)\n",
    "print(Trois_au_hasard)"
   ]
  },
  {
   "cell_type": "markdown",
   "metadata": {},
   "source": [
    "# Exercice 2\n",
    "\n",
    "-Générer automatiquement une liste aléatoire l1 de 20 nombres entiers compris entre 100 et 400, borne comprise\n",
    "\n",
    "-Générer automatiquement une liste aléatoire l2 de 10 nombres entiers multiples de 5 compris entre 1000 et 1100 borne droite non comprise.\n",
    "\n",
    "-Générer automatiquement une liste aléatoire l3 de 14 nombres à deux décimales compris entre 10 et 12"
   ]
  },
  {
   "cell_type": "code",
   "execution_count": 31,
   "metadata": {},
   "outputs": [
    {
     "name": "stdout",
     "output_type": "stream",
     "text": [
      "[302, 352, 212, 284, 133, 370, 251, 368, 142, 312, 394, 328, 335, 178, 262, 399, 219, 140, 144, 183]\n"
     ]
    }
   ],
   "source": [
    "l1=[]\n",
    "for i in range(20):\n",
    "    l1.append(random.randint(100,400))\n",
    "print(l1)"
   ]
  },
  {
   "cell_type": "code",
   "execution_count": 33,
   "metadata": {},
   "outputs": [
    {
     "name": "stdout",
     "output_type": "stream",
     "text": [
      "[1015, 1080, 1020, 1025, 1000, 1005, 1060, 1005, 1050, 1005]\n"
     ]
    }
   ],
   "source": [
    "l2=[]\n",
    "for i in range(10):\n",
    "    l2.append(random.randrange(1000,1100,5))\n",
    "print(l2)"
   ]
  },
  {
   "cell_type": "code",
   "execution_count": 34,
   "metadata": {},
   "outputs": [
    {
     "name": "stdout",
     "output_type": "stream",
     "text": [
      "[11.24, 10.81, 11.92, 10.1, 10.52, 10.83, 10.87, 10.33, 10.42, 11.27, 11.44, 11.24, 10.78, 10.34]\n"
     ]
    }
   ],
   "source": [
    "l3 = []\n",
    "for i in range(14):\n",
    "    l3.append(round(10+2*random.random(),2))\n",
    "print(l3)"
   ]
  }
 ],
 "metadata": {
  "kernelspec": {
   "display_name": "Python 3",
   "language": "python",
   "name": "python3"
  },
  "language_info": {
   "codemirror_mode": {
    "name": "ipython",
    "version": 3
   },
   "file_extension": ".py",
   "mimetype": "text/x-python",
   "name": "python",
   "nbconvert_exporter": "python",
   "pygments_lexer": "ipython3",
   "version": "3.6.5"
  }
 },
 "nbformat": 4,
 "nbformat_minor": 2
}
