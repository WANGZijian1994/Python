{
 "cells": [
  {
   "cell_type": "markdown",
   "metadata": {},
   "source": [
    "### 任一个英文的纯文本文件，统计其中的最常出现的10单词出现的个数。"
   ]
  },
  {
   "cell_type": "code",
   "execution_count": 10,
   "metadata": {},
   "outputs": [
    {
     "name": "stdout",
     "output_type": "stream",
     "text": [
      "[('the', 3966), ('and', 1754), ('a', 1650), ('to', 1360), ('was', 1196), ('in', 1024), ('i', 901), ('of', 758), ('we', 713), ('hotel', 692)]\n"
     ]
    }
   ],
   "source": [
    "import collections\n",
    "import codecs\n",
    "import re\n",
    "from collections import Counter\n",
    "f = codecs.open(\"hotel.txt\",'r',\"utf-8\")\n",
    "hotel=f.read().lower()\n",
    "words = re.findall(r'\\w+',hotel)\n",
    "print(Counter(words).most_common(10))"
   ]
  }
 ],
 "metadata": {
  "kernelspec": {
   "display_name": "Python 3",
   "language": "python",
   "name": "python3"
  },
  "language_info": {
   "codemirror_mode": {
    "name": "ipython",
    "version": 3
   },
   "file_extension": ".py",
   "mimetype": "text/x-python",
   "name": "python",
   "nbconvert_exporter": "python",
   "pygments_lexer": "ipython3",
   "version": "3.6.5"
  }
 },
 "nbformat": 4,
 "nbformat_minor": 2
}
