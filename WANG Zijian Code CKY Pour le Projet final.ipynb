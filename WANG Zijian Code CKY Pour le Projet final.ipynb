{
 "cells": [
  {
   "cell_type": "code",
   "execution_count": 15,
   "metadata": {},
   "outputs": [],
   "source": [
    "# créer la classe Symbol qui porte l'objet String name et qui peut sortir directement des chaînes de caractères initiées.\n",
    "class Symbol():                         # créer une classe qui s'appelle Symbol\n",
    "    def __init__(self,name):            # initialiser cette classe en créant un objet(instance) qui s'appelle self et un objet dont le nom est «name».\n",
    "        self.name=name                  # indiquer que l'objet Name est affecté par une chaîne de caractères (String) qui s'appelle «name». \n",
    "    def __str__(self):                  \n",
    "        return self.name\n",
    "# Définir 5 objets de la classe Symbol\n",
    "symS = Symbol(\"S\").name\n",
    "symA = Symbol(\"A\").name\n",
    "symB = Symbol(\"B\").name\n",
    "symTerminalA = Symbol(\"a\").name\n",
    "symTerminalB = Symbol(\"b\").name\n",
    "\n",
    "# Créer la classe Rule qui porte les objets lefths et righths, \n",
    "# le premier est le name dans la classe Symbol, le dernier se compose en liste des mêmes chaînes de caractères dans le name , \n",
    "# séparées par la virgule. \n",
    "class Rule:\n",
    "    def __init__(self,lefths,righths):\n",
    "        self.lefths=lefths\n",
    "        self.righths=righths\n",
    "    def grammar_right(self):\n",
    "        rightParty = \"\".join([str(s) for s in self.righths])\n",
    "        return rightParty\n",
    "    def __str__(self):\n",
    "        grammaire = str(self.lefths) + \" -->  \"+ \"\".join([str(s) for s in self.righths])\n",
    "        return grammaire\n",
    "\n",
    "# Définir des objets pour la classe Rule; l'étape pour créer des règles grammaires à analyser\n",
    "Rule1=Rule(symS, [symA, symB])      \n",
    "Rule2=Rule(symS, [symTerminalA])    \n",
    "Rule3=Rule(symA, [symS, symB])      \n",
    "Rule4=Rule(symA, [symTerminalB])    \n",
    "Rule5=Rule(symB, [symTerminalB])    \n",
    "Rule6=Rule(symS, [symA, symS])      \n",
    "Rule7=Rule(symS, [symTerminalB])        \n",
    "Rule8=Rule(symA, [symTerminalA])\n",
    "\n",
    "# Définir la classe grammaire en précisant ces compositions: 5 symbols créés à l'instant et 8 règles grammaticales; en créant de nouvelles méthodes pour faire entrer les variables \n",
    "# et pour changer le type de variables afin de simplifier les traitements suivants.\n",
    "class Grammar:\n",
    "    def __init__(self,symbols, axiom, rules, name):\n",
    "        self.symbols=symbols # liste de Symbol,dans cette liste,les éléments sont des classes comme Symbol,Rule définies au début.[class1,class2,...]type(class1)=type\n",
    "        self.axiom=axiom # S\n",
    "        self.rules=rules # par exemple:[Rule1,Rule2,Rule3,Rule4,...]type(Rule1)=type\n",
    "        self.name=name # name of the rule\n",
    "       \n",
    "        self.nonTerminal=set()\n",
    "        for rule in rules:\n",
    "            self.nonTerminal.add(rule.lefths)# présenter les non-terminaux dans un ensemble. # ajouter de nouveaux éléments à la fin de l'ensemble créé(set()), comme .append() pour la liste\n",
    "    def createNewSymbols(self,symbolName):# identifier si un objet de la classe Symbol est nouveau,si oui,ajouter ce nouveau objet dans le name\n",
    "        # symbolName en String\n",
    "        name=symbolName\n",
    "        ok=False\n",
    "        while (ok==False):\n",
    "            ok=True\n",
    "            for s in self.symbols: # self.symbols en liste dans def initial class\n",
    "                if s.name==name: \n",
    "# s est une classe, s.name est un objet de la classe Symbol,si s.name est la même chose que symbolName\n",
    "                    ok=False\n",
    "                    continue\n",
    "                \n",
    "            if ok==False:\n",
    "                name=name + \"'\"\n",
    "        return Symbol(name)# avec def __str__ dans la classe Symbol, on peut obtenir directement l'objet Name\n",
    "    def nonTerminal(self):# Obtenir les nonTerminaux (important pour le traitement et l'analyse)\n",
    "        return self.nonTerminal\n",
    "    def isNonTerminal(self,Symbol):# déterminer si un objet dans la classe Symbol (symS,symA...)est terminal ou non-terminal\n",
    "        list_flag=[]\n",
    "        for symbol in symbols:\n",
    "            flag=symbol in self.nonTerminals # flag est une variable booléenne, pour déterminer si symbol est dans l'ensemble (set) de nonTerminal\n",
    "            list_flag.append(flag)\n",
    "        return list_flag\n",
    "    def rule_left(self):# trouver toutes les règles à gauche en liste\n",
    "        grammar_left = []\n",
    "        for rule in self.rules:\n",
    "            grammar_left.append(rule.lefths)\n",
    "        return grammar_left\n",
    "    def rule_right(self):# trouver toutes les règles à droite en liste\n",
    "        grammar_right = []\n",
    "        for rule in self.rules:\n",
    "            grammar_right.append(rule.grammar_right())\n",
    "        return grammar_right   \n",
    "    def __str__(self):# obtenir le panorama de la grammaire\n",
    "        grammaire = \"{\" +\\\n",
    "            \"symbols = [\" + \",\".join([str(s) for s in self.symbols]) + \"]; \" +\\\n",
    "            \"axiom = \" + str(self.axiom) + \"; \" +\\\n",
    "            \"rules = [\" + \", \".join(str(r) for r in self.rules) + \"]\" +\\\n",
    "            \"}\"\n",
    "        return grammaire\n",
    "\n",
    "# créer deux grammaires g1,g2 (les objets de la classe Grammar)\n",
    "Alphabet_symbols=[symS, symA, symB, symTerminalA, symTerminalB]\n",
    "Axiom_axiom=symS\n",
    "List_rules=[Rule1,Rule2,Rule3,Rule4,Rule5]\n",
    "name=\"g1\"\n",
    "g1=Grammar(Alphabet_symbols,Axiom_axiom,List_rules,name)\n",
    "\n",
    "Alphabet_symbols2=[symS, symA, symTerminalA, symTerminalB]\n",
    "List_rules2=[Rule6,Rule7,Rule8]\n",
    "name2=\"g2\"\n",
    "\n",
    "g2=Grammar(Alphabet_symbols2,Axiom_axiom,List_rules2,name2)"
   ]
  },
  {
   "cell_type": "markdown",
   "metadata": {},
   "source": [
    "## Question 1 : création de la table d'analyse"
   ]
  },
  {
   "cell_type": "code",
   "execution_count": 52,
   "metadata": {},
   "outputs": [
    {
     "data": {
      "text/plain": [
       "([['AB', 'AB'], ['S', []]], [(1, 'S-->AB'), (2, 'A-->b'), (3, 'B-->b')])"
      ]
     },
     "execution_count": 52,
     "metadata": {},
     "output_type": "execute_result"
    }
   ],
   "source": [
    "def words(u):\n",
    "    # Si on doit analyser une phrase,il faut passer cette étape pour simplifier le traitement: \n",
    "    # si c'est une string comme aaabbb,garder la forme telle quelle, si c'est une phrase, séparer tous les mots(tokens) \n",
    "    # pour les mettre dans une liste sans ponctuation\n",
    "    Espace_vide=\" \"\n",
    "    if Espace_vide not in u:\n",
    "        return u\n",
    "    else:\n",
    "        import string\n",
    "        for char in u:\n",
    "            if char in string.punctuation:\n",
    "                u=u.replace(char,\"\")\n",
    "        u=u.split(Espace_vide)\n",
    "        return u\n",
    "# words(\"Now you can work here!\")----['Now', 'you', 'can', 'work', 'here']\n",
    "\n",
    "def IfCNF(gr):\n",
    "    # Si la grammaire créée est de la Forme Normale de Chomsky? NonTerminal-->NonTerminalNonterminal ou Nonterminal-->Terminal\n",
    "    Flag =True\n",
    "    for i in g1.rule_left():\n",
    "        if len(i)!=1:\n",
    "            Flag=False\n",
    "    # S'il y a plus d'un NonTerminal à gauche\n",
    "    \n",
    "    # Pour la droite,s'il y a seulement un Terminal ou exactement deux NonTerminaux.\n",
    "    flag=True\n",
    "    for j in g1.rule_right():\n",
    "        if len(j)==2:\n",
    "            for k in j:\n",
    "                if k not in g1.nonTerminal:\n",
    "                    flag=False\n",
    "        elif len(j)==1:\n",
    "            if j in g1.nonTerminal:\n",
    "                flag=False\n",
    "    if Flag==True and flag==True:\n",
    "        result = \"CheckCNF: C'est CNF.\"\n",
    "    else:\n",
    "        result = \"CheckCNF: Ce n'est pas de CNF.\"\n",
    "    return result\n",
    "# IfCNF(g1)-->CheckCNF: C'est CNF.\n",
    "\n",
    "# créer une liste dont l'élément est de tuple pour porter les règles grammaticales\n",
    "def grammar_form(gr):\n",
    "    grammar=list(zip(gr.rule_left(),gr.rule_right()))\n",
    "    return grammar\n",
    "# grammar_form(g1)-->[('S', 'AB'), ('S', 'a'), ('A', 'SB'), ('A', 'b'), ('B', 'b')]\n",
    "# grammar_form(g2)-->[('S', 'AS'), ('S', 'b'), ('A', 'a')]\n",
    "\n",
    "# Pour construire la table afin d'utiliser le CKY et trouver les grammaires utilisées pour la phrase\n",
    "def CKY(u,gr):\n",
    "    # Initier la table\n",
    "    Table = [[[] for i in range(len(u))] for j in range(len(u))]\n",
    "    grammar_utilisé = []\n",
    "    # pour entrer les règles grammaticales dans la table en utilisant l²algorithme CKY\n",
    "    for j in range(len(u)):\n",
    "        important = str()\n",
    "        for i in range(len(grammar_form(gr))):\n",
    "            if u[j] in grammar_form(gr)[i][1]:\n",
    "                important += grammar_form(gr)[i][0]\n",
    "        k =int(j)\n",
    "        Table[0][k] = str(important) \n",
    "        for j in (range(2,len(u)+1)):\n",
    "            for i in range(1,len(u)-j+2):\n",
    "                for k in (range(1,j)):\n",
    "                    Drapeau1 = Table[k-1][i-1]\n",
    "                    Drapeau2 = Table[j-1-k][i-1+k]\n",
    "                    if len(Drapeau1)==1 and len(Drapeau2)==1:# Quand il y a seulement un NonTerminal \n",
    "                        Drapeau = str(Drapeau1)+str(Drapeau2)\n",
    "                        for m in range(len(gr.rule_right())):\n",
    "                            if Drapeau==gr.rule_right()[m]:\n",
    "                                Table[j-1][i-1]=gr.rule_left()[m]# Pour voir si les règles correspondent bien à la grammaire créée\n",
    "                                rule = Table[j-1][i-1] + \"-->\" + Drapeau\n",
    "                                grammar_utilisé.append(rule)# Pour trouver la trace des grammaires utilisées\n",
    "            \n",
    "                    else:# Quand il y a 2 NonTerminaux, il faut discuter le cas\n",
    "                        if len(Drapeau1)==2 and len(Drapeau2)==1:# Si un NonTerminal a pour longueur de 1 et l'autre possède deux cas possibles comme A|B\n",
    "                            Drapeaui = str(Drapeau1[0])+str(Drapeau2)\n",
    "                            Drapeauii = str(Drapeau1[1])+str(Drapeau2)\n",
    "                            for m in range(len(gr.rule_right())):\n",
    "                                if Drapeaui==gr.rule_right()[m]:\n",
    "                                    Table[j-1][i-1]=gr.rule_left()[m]# Pour voir si les règles correspondent bien à la grammaire créée\n",
    "                                    rule = Table[j-1][i-1] + \"-->\" + gr.rule_right()[m]\n",
    "                                    grammar_utilisé.append(rule)# Pour trouver la trace des grammaires utilisées\n",
    "                                if Drapeauii==gr.rule_right()[m]:\n",
    "                                    Table[j-1][i-1]=gr.rule_left()[m]# Pour voir si les règles correspondent bien à la grammaire créée\n",
    "                                    rule = Table[j-1][i-1] + \"-->\" + gr.rule_right()[m]\n",
    "                                    grammar_utilisé.append(rule)# Pour trouver la trace des grammaires utilisées\n",
    "                        elif len(Drapeau2)==2 and len(Drapeau1)==1:# Pareil comme le premier cas\n",
    "                            Drapeaui = str(Drapeau1)+str(Drapeau2[0])\n",
    "                            Drapeauii = str(Drapeau1)+str(Drapeau2[1])\n",
    "                            for m in range(len(gr.rule_right())):\n",
    "                                if Drapeaui==gr.rule_right()[m]:\n",
    "                                    Table[j-1][i-1]=gr.rule_left()[m]# Pour voir si les règles correspondent bien à la grammaire créée\n",
    "                                    rule = Table[j-1][i-1] + \"-->\" + gr.rule_right()[m]\n",
    "                                    grammar_utilisé.append(rule)# Pour trouver la trace des grammaires utilisées\n",
    "                                if Drapeauii==gr.rule_right()[m]:\n",
    "                                    Table[j-1][i-1]=gr.rule_left()[m]\n",
    "                                    rule = Table[j-1][i-1] + \"-->\" + gr.rule_right()[m]\n",
    "                                    grammar_utilisé.append(rule)# Pour trouver la trace des grammaires utilisées\n",
    "                        elif len(Drapeau1)==2 and len(Drapeau2)==2:\n",
    "                            Drapeaui = str(Drapeau1[0])+str(Drapeau2[0])\n",
    "                            Drapeauii = str(Drapeau1[1])+str(Drapeau2[1])\n",
    "                            Drapeauiii = str(Drapeau1[0])+str(Drapeau2[1])\n",
    "                            Drapeauiiii = str(Drapeau1[1])+str(Drapeau2[0])\n",
    "                            for m in range(len(gr.rule_right())):\n",
    "                                if Drapeaui==gr.rule_right()[m]:\n",
    "                                    Table[j-1][i-1]=gr.rule_left()[m]# Pour voir si les règles correspondent bien à la grammaire créée\n",
    "                                    rule = Table[j-1][i-1] + \"-->\" + gr.rule_right()[m]\n",
    "                                    grammar_utilisé.append(rule)# Pour trouver la trace des grammaires utilisées\n",
    "                                if Drapeauii==gr.rule_right()[m]:\n",
    "                                    Table[j-1][i-1]=gr.rule_left()[m]# Pour voir si les règles correspondent bien à la grammaire créée\n",
    "                                    rule = Table[j-1][i-1] + \"-->\" + gr.rule_right()[m]\n",
    "                                    grammar_utilisé.append(rule)# Pour trouver la trace des grammaires utilisées\n",
    "                                if Drapeauiii==gr.rule_right()[m]:\n",
    "                                    Table[j-1][i-1]=gr.rule_left()[m]\n",
    "                                    rule = Table[j-1][i-1] + \"-->\" + gr.rule_right()[m]\n",
    "                                    grammar_utilisé.append(rule)# Pour trouver la trace des grammaires utilisées\n",
    "                                if Drapeauiiii==gr.rule_right()[m]:\n",
    "                                    Table[j-1][i-1]=gr.rule_left()[m]\n",
    "                                    rule = Table[j-1][i-1] + \"-->\" + gr.rule_right()[m]\n",
    "                                    grammar_utilisé.append(rule)# Pour trouver la trace des grammaires utilisées\n",
    "                        \n",
    "     \n",
    "    grammaire_utilisée=[]\n",
    "    for index in range(len(grammar_utilisé)):\n",
    "        a=tuple((index+1,grammar_utilisé[len(grammar_utilisé)-index-1]))\n",
    "        grammaire_utilisée.append(a)\n",
    "    k=0\n",
    "    for i in range(len(grammar_form(gr))):\n",
    "        if len(grammar_form(gr)[i][1])==1 and grammar_form(gr)[i][1] in u:\n",
    "            k+=1\n",
    "            rule = grammar_form(gr)[i][0] + \"-->\"+grammar_form(gr)[i][1]\n",
    "            rule1=tuple((len(grammar_utilisé)+k,rule))\n",
    "            grammaire_utilisée.append(rule1)\n",
    "    return Table,grammaire_utilisée\n",
    "\n",
    "CKY(\"bb\",g1)"
   ]
  },
  {
   "cell_type": "markdown",
   "metadata": {},
   "source": [
    "## Question 2"
   ]
  },
  {
   "cell_type": "code",
   "execution_count": 53,
   "metadata": {},
   "outputs": [],
   "source": [
    "# Pour voir si les String ou des phrases peuvent etre créés par la grammaire\n",
    "def isSuccessful(u,gr):\n",
    "    Flag=\"Not Successful\"\n",
    "    if len(u)==1:\n",
    "        if u in gr.rule_right():\n",
    "            Flag = \"Successful\"\n",
    "    elif 'S'in CKY(u,gr)[0][len(u)-1][0]:\n",
    "        Flag = \"Successful\"\n",
    "    return Flag\n",
    "\n",
    "# Pour donner le résultat final\n",
    "def parse(u,gr):\n",
    "    if not IfCNF(gr):\n",
    "        print(\"la grammaire n'est pas en forme normale de Chomsky!\")\n",
    "        return\n",
    "    T=CKY(u,gr)\n",
    "    if isSuccessful(u,gr)==\"Successful\":\n",
    "        print(\"le mot est généré par la grammaire\")\n",
    "        return T\n",
    "    else:\n",
    "        print(\"le mot N'est PAS généré par la grammaire\")\n",
    "        return T[0]\n"
   ]
  },
  {
   "cell_type": "code",
   "execution_count": 54,
   "metadata": {},
   "outputs": [
    {
     "name": "stdout",
     "output_type": "stream",
     "text": [
      "le mot est généré par la grammaire\n"
     ]
    },
    {
     "data": {
      "text/plain": [
       "([['AB', 'AB'], ['S', []]], [(1, 'S-->AB'), (2, 'A-->b'), (3, 'B-->b')])"
      ]
     },
     "execution_count": 54,
     "metadata": {},
     "output_type": "execute_result"
    }
   ],
   "source": [
    "parse(\"bb\", g1)"
   ]
  },
  {
   "cell_type": "code",
   "execution_count": 55,
   "metadata": {},
   "outputs": [
    {
     "name": "stdout",
     "output_type": "stream",
     "text": [
      "le mot est généré par la grammaire\n"
     ]
    },
    {
     "data": {
      "text/plain": [
       "([['S', 'AB', 'AB'], ['A', 'S', []], ['S', [], []]],\n",
       " [(1, 'S-->AB'),\n",
       "  (2, 'S-->AB'),\n",
       "  (3, 'A-->SB'),\n",
       "  (4, 'A-->SB'),\n",
       "  (5, 'S-->a'),\n",
       "  (6, 'A-->b'),\n",
       "  (7, 'B-->b')])"
      ]
     },
     "execution_count": 55,
     "metadata": {},
     "output_type": "execute_result"
    }
   ],
   "source": [
    "parse(\"abb\", g1)"
   ]
  },
  {
   "cell_type": "code",
   "execution_count": 56,
   "metadata": {},
   "outputs": [
    {
     "name": "stdout",
     "output_type": "stream",
     "text": [
      "le mot est généré par la grammaire\n"
     ]
    },
    {
     "data": {
      "text/plain": [
       "([['A', 'A', 'A', 'S'],\n",
       "  [[], [], 'S', []],\n",
       "  [[], 'S', [], []],\n",
       "  ['S', [], [], []]],\n",
       " [(1, 'S-->AS'), (2, 'S-->AS'), (3, 'S-->AS'), (4, 'S-->b'), (5, 'A-->a')])"
      ]
     },
     "execution_count": 56,
     "metadata": {},
     "output_type": "execute_result"
    }
   ],
   "source": [
    "parse(\"aaab\", g2)"
   ]
  },
  {
   "cell_type": "code",
   "execution_count": 57,
   "metadata": {},
   "outputs": [
    {
     "name": "stdout",
     "output_type": "stream",
     "text": [
      "le mot N'est PAS généré par la grammaire\n"
     ]
    },
    {
     "data": {
      "text/plain": [
       "[['S', 'S', 'AB', 'S', 'AB'],\n",
       " [[], 'A', [], 'A', []],\n",
       " [[], [], [], [], []],\n",
       " [[], [], [], [], []],\n",
       " [[], [], [], [], []]]"
      ]
     },
     "execution_count": 57,
     "metadata": {},
     "output_type": "execute_result"
    }
   ],
   "source": [
    "parse(\"aabab\",g1)"
   ]
  },
  {
   "cell_type": "code",
   "execution_count": 58,
   "metadata": {
    "scrolled": true
   },
   "outputs": [
    {
     "name": "stdout",
     "output_type": "stream",
     "text": [
      "le mot N'est PAS généré par la grammaire\n"
     ]
    },
    {
     "data": {
      "text/plain": [
       "[['S', 'AB', 'AB', 'AB'],\n",
       " ['A', 'S', 'S', []],\n",
       " ['S', 'A', [], []],\n",
       " ['A', [], [], []]]"
      ]
     },
     "execution_count": 58,
     "metadata": {},
     "output_type": "execute_result"
    }
   ],
   "source": [
    "parse(\"abbb\",g1)"
   ]
  },
  {
   "cell_type": "code",
   "execution_count": 59,
   "metadata": {},
   "outputs": [
    {
     "name": "stdout",
     "output_type": "stream",
     "text": [
      "le mot est généré par la grammaire\n"
     ]
    },
    {
     "data": {
      "text/plain": [
       "([['S', 'AB', 'AB', 'AB', 'AB'],\n",
       "  ['A', 'S', 'S', 'S', []],\n",
       "  ['S', 'A', 'A', [], []],\n",
       "  ['A', 'S', [], [], []],\n",
       "  ['S', [], [], [], []]],\n",
       " [(1, 'S-->AB'),\n",
       "  (2, 'S-->AB'),\n",
       "  (3, 'A-->SB'),\n",
       "  (4, 'A-->SB'),\n",
       "  (5, 'A-->SB'),\n",
       "  (6, 'S-->AB'),\n",
       "  (7, 'S-->AB'),\n",
       "  (8, 'S-->AB'),\n",
       "  (9, 'S-->AB'),\n",
       "  (10, 'A-->SB'),\n",
       "  (11, 'A-->SB'),\n",
       "  (12, 'A-->SB'),\n",
       "  (13, 'S-->AB'),\n",
       "  (14, 'S-->AB'),\n",
       "  (15, 'S-->AB'),\n",
       "  (16, 'A-->SB'),\n",
       "  (17, 'S-->AB'),\n",
       "  (18, 'S-->AB'),\n",
       "  (19, 'A-->SB'),\n",
       "  (20, 'A-->SB'),\n",
       "  (21, 'S-->a'),\n",
       "  (22, 'A-->b'),\n",
       "  (23, 'B-->b')])"
      ]
     },
     "execution_count": 59,
     "metadata": {},
     "output_type": "execute_result"
    }
   ],
   "source": [
    "parse(\"abbbb\",g1)"
   ]
  }
 ],
 "metadata": {
  "kernelspec": {
   "display_name": "Python 3",
   "language": "python",
   "name": "python3"
  },
  "language_info": {
   "codemirror_mode": {
    "name": "ipython",
    "version": 3
   },
   "file_extension": ".py",
   "mimetype": "text/x-python",
   "name": "python",
   "nbconvert_exporter": "python",
   "pygments_lexer": "ipython3",
   "version": "3.6.5"
  }
 },
 "nbformat": 4,
 "nbformat_minor": 2
}
