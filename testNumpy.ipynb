{
 "cells": [
  {
   "cell_type": "code",
   "execution_count": 1,
   "metadata": {},
   "outputs": [],
   "source": [
    "import numpy as np\n",
    "import pprint"
   ]
  },
  {
   "cell_type": "code",
   "execution_count": 9,
   "metadata": {},
   "outputs": [],
   "source": [
    "def information_Array(array):\n",
    "    print(array)\n",
    "    print(type(array))\n",
    "    print(array.dtype)# le type de chaque élément\n",
    "    print(array.shape)# x lignes y colonnes\n",
    "    print(array.size)# x * y \n",
    "    return 0;"
   ]
  },
  {
   "cell_type": "code",
   "execution_count": 11,
   "metadata": {},
   "outputs": [
    {
     "name": "stdout",
     "output_type": "stream",
     "text": [
      "[[1 2 3]\n",
      " [2 3 4]]\n",
      "<class 'numpy.ndarray'>\n",
      "int64\n",
      "(2, 3)\n",
      "6\n"
     ]
    }
   ],
   "source": [
    "array = np.array([[1,2,3],[2,3,4]],dtype = np.int64)\n",
    "print(array)\n",
    "print(type(array))\n",
    "print(array.dtype)# le type de chaque élément\n",
    "print(array.shape)# 2 lignes 3 colonnes\n",
    "print(array.size)# 2 * 3 = 6"
   ]
  },
  {
   "cell_type": "markdown",
   "metadata": {},
   "source": [
    "### Modifier DType"
   ]
  },
  {
   "cell_type": "code",
   "execution_count": 10,
   "metadata": {},
   "outputs": [
    {
     "name": "stdout",
     "output_type": "stream",
     "text": [
      "[ 2. 23.  2.]\n",
      "<class 'numpy.ndarray'>\n",
      "float64\n",
      "(3,)\n",
      "3\n"
     ]
    },
    {
     "data": {
      "text/plain": [
       "0"
      ]
     },
     "execution_count": 10,
     "metadata": {},
     "output_type": "execute_result"
    }
   ],
   "source": [
    "array1 = np.array([2,23,2],dtype = np.float64)\n",
    "information_Array(array1)"
   ]
  },
  {
   "cell_type": "markdown",
   "metadata": {},
   "source": [
    "### Commun forms for array: \n",
    "\n",
    "###### shape(a,b)"
   ]
  },
  {
   "cell_type": "code",
   "execution_count": 14,
   "metadata": {},
   "outputs": [
    {
     "name": "stdout",
     "output_type": "stream",
     "text": [
      "[[0 0 0]\n",
      " [0 0 0]]\n"
     ]
    }
   ],
   "source": [
    "a0 = np.zeros((2,3),dtype = np.int64)\n",
    "print(a0)"
   ]
  },
  {
   "cell_type": "code",
   "execution_count": 15,
   "metadata": {},
   "outputs": [
    {
     "name": "stdout",
     "output_type": "stream",
     "text": [
      "[[1 1 1 1]\n",
      " [1 1 1 1]\n",
      " [1 1 1 1]]\n"
     ]
    }
   ],
   "source": [
    "a1 = np.ones((3,4),dtype = np.int64)\n",
    "print(a1)"
   ]
  },
  {
   "cell_type": "code",
   "execution_count": 16,
   "metadata": {},
   "outputs": [
    {
     "name": "stdout",
     "output_type": "stream",
     "text": [
      "[[0.00000000e+000 1.48219694e-323 0.00000000e+000 1.77229088e-310]\n",
      " [3.50977866e+064 0.00000000e+000 0.00000000e+000             nan]\n",
      " [            nan 3.50977942e+064 6.93871497e-310 0.00000000e+000]]\n"
     ]
    }
   ],
   "source": [
    "arrayEmpty = np.empty((3,4))\n",
    "print(arrayEmpty)"
   ]
  },
  {
   "cell_type": "markdown",
   "metadata": {},
   "source": [
    "### numpy.arange(a) 生成一行range(a) 规则符合générateur range的规则"
   ]
  },
  {
   "cell_type": "code",
   "execution_count": 17,
   "metadata": {},
   "outputs": [
    {
     "name": "stdout",
     "output_type": "stream",
     "text": [
      "[ 0  1  2  3  4  5  6  7  8  9 10]\n"
     ]
    }
   ],
   "source": [
    "array10 = np.arange(11)\n",
    "print(array10)"
   ]
  },
  {
   "cell_type": "code",
   "execution_count": 20,
   "metadata": {},
   "outputs": [
    {
     "name": "stdout",
     "output_type": "stream",
     "text": [
      "[ 0  2  4  6  8 10 12 14 16 18 20]\n"
     ]
    }
   ],
   "source": [
    "arrayPaire = np.arange(0,21,2)\n",
    "print(arrayPaire)"
   ]
  },
  {
   "cell_type": "markdown",
   "metadata": {},
   "source": [
    "### numpy.arange(a).reshape(3,4) ---(par exemple) "
   ]
  },
  {
   "cell_type": "code",
   "execution_count": 22,
   "metadata": {},
   "outputs": [
    {
     "name": "stdout",
     "output_type": "stream",
     "text": [
      "[[ 0  2  4  6  8]\n",
      " [10 12 14 16 18]\n",
      " [20 22 24 26 28]]\n"
     ]
    }
   ],
   "source": [
    "arrayPaire1 = np.arange(0,30,2).reshape(3,5)\n",
    "print(arrayPaire1)"
   ]
  },
  {
   "cell_type": "code",
   "execution_count": 26,
   "metadata": {
    "scrolled": true
   },
   "outputs": [
    {
     "name": "stdout",
     "output_type": "stream",
     "text": [
      "[[ 1  4]\n",
      " [ 7 10]]\n",
      "[[ 1.  4.]\n",
      " [ 7. 10.]]\n"
     ]
    }
   ],
   "source": [
    "arrayLise = np.arange(1,11,3).reshape(2,2)\n",
    "print(arrayLise)\n",
    "arrayLise = np.linspace(1,10,4).reshape(2,2)\n",
    "print(arrayLise)"
   ]
  },
  {
   "cell_type": "markdown",
   "metadata": {},
   "source": [
    "### Calcul\n",
    "\n",
    "##### la même dimension"
   ]
  },
  {
   "cell_type": "code",
   "execution_count": 30,
   "metadata": {},
   "outputs": [
    {
     "name": "stdout",
     "output_type": "stream",
     "text": [
      "[11 22 33 44]\n",
      "[ 9 18 27 36]\n",
      "[ -9 -18 -27 -36]\n"
     ]
    }
   ],
   "source": [
    "a = np.arange(10,41,10)\n",
    "b = np.arange(1,5)\n",
    "c = a + b\n",
    "d = a-b\n",
    "d1 = b-a\n",
    "print(c)\n",
    "print(d)\n",
    "print(d1)"
   ]
  },
  {
   "cell_type": "markdown",
   "metadata": {},
   "source": [
    "##### Dimension différente"
   ]
  },
  {
   "cell_type": "code",
   "execution_count": 39,
   "metadata": {},
   "outputs": [
    {
     "name": "stdout",
     "output_type": "stream",
     "text": [
      "Matrice1 = \n",
      "[[ 1  2  3  4  5]\n",
      " [ 6  7  8  9 10]]\n",
      "Matrice2 = \n",
      "[1 2 3 4 5]\n",
      "Matrice1 + Matrice2 = \n",
      "[[ 2  4  6  8 10]\n",
      " [ 7  9 11 13 15]]\n",
      "Matrice1 * Matrice2 = \n",
      "[[ 1  4  9 16 25]\n",
      " [ 6 14 24 36 50]]\n",
      "Matrice1 x Matrice2 = \n",
      "[ 55 130]\n",
      "Matrice1 x Matrice2 = \n",
      "[ 55 130]\n",
      "Matrice1 / Matrice2 = \n",
      "[[1.         1.         1.         1.         1.        ]\n",
      " [6.         3.5        2.66666667 2.25       2.        ]]\n"
     ]
    }
   ],
   "source": [
    "matrice1 = np.arange(1,11).reshape(2,5)\n",
    "print(\"Matrice1 = \")\n",
    "print(matrice1)\n",
    "matrice2 = np.arange(1,6)\n",
    "print(\"Matrice2 = \")\n",
    "print(matrice2)\n",
    "matrice3 = matrice1 + matrice2\n",
    "print(\"Matrice1 + Matrice2 = \")\n",
    "print(matrice3)\n",
    "matrice4 = matrice1*matrice2\n",
    "print(\"Matrice1 * Matrice2 = \")\n",
    "print(matrice4)\n",
    "matrice4 = matrice1.dot(matrice2)# np.dot遵循Matrice乘法原则\n",
    "print(\"Matrice1 x Matrice2 = \")\n",
    "print(matrice4)\n",
    "matrice4 = np.dot(matrice1,matrice2)# np.dot遵循Matrice乘法原则\n",
    "print(\"Matrice1 x Matrice2 = \")\n",
    "print(matrice4)\n",
    "matrice5 = matrice1 / matrice2\n",
    "print(\"Matrice1 / Matrice2 = \")\n",
    "print(matrice5)"
   ]
  },
  {
   "cell_type": "markdown",
   "metadata": {},
   "source": [
    "### Comparaison"
   ]
  },
  {
   "cell_type": "code",
   "execution_count": 44,
   "metadata": {},
   "outputs": [
    {
     "name": "stdout",
     "output_type": "stream",
     "text": [
      "[[ 1  2  3  4  5]\n",
      " [ 6  7  8  9 10]]\n",
      "[[ True  True  True  True  True]\n",
      " [ True  True  True  True  True]]\n",
      "[[ 1  2  3  4  5]\n",
      " [ 6  7  8  9 10]]\n",
      "[[ True  True  True  True  True]\n",
      " [ True False False False False]]\n"
     ]
    }
   ],
   "source": [
    "print(matrice1)\n",
    "matriceInferieur100 = matrice1 < 100\n",
    "print(matriceInferieur100)\n",
    "print(matrice1)\n",
    "matriceInferieur7 = matrice1 < 7\n",
    "print(matriceInferieur7)"
   ]
  },
  {
   "cell_type": "markdown",
   "metadata": {},
   "source": [
    "### Random with array\n",
    "\n",
    "###### np.random.random([shape, shape])"
   ]
  },
  {
   "cell_type": "code",
   "execution_count": 47,
   "metadata": {},
   "outputs": [
    {
     "name": "stdout",
     "output_type": "stream",
     "text": [
      "[[0.97357916 0.44087616 0.7279016 ]\n",
      " [0.95248063 0.78912761 0.14983472]\n",
      " [0.2710954  0.04721158 0.36807306]]\n",
      "[[0.26748946 0.25798544 0.13682714 0.47697304]\n",
      " [0.91343778 0.12243688 0.36558493 0.40032778]]\n"
     ]
    }
   ],
   "source": [
    "import random\n",
    "from random import random\n",
    "arrayRandom33 = np.random.random([3,3])\n",
    "print(arrayRandom33)\n",
    "arrayRandom24 = np.random.random([2,4])\n",
    "print(arrayRandom24)"
   ]
  },
  {
   "cell_type": "markdown",
   "metadata": {},
   "source": [
    "### Max min sum with array"
   ]
  },
  {
   "cell_type": "code",
   "execution_count": 59,
   "metadata": {
    "scrolled": false
   },
   "outputs": [
    {
     "name": "stdout",
     "output_type": "stream",
     "text": [
      "[[ 10  20  30  40  50]\n",
      " [ 60  70  80  90 100]\n",
      " [110 120 130 140 150]\n",
      " [160 170 180 190 200]]\n",
      "<class 'numpy.int64'>\n",
      "Le plus grand élément dans la matrice?  200\n",
      "Le pluis petit élément dans la matrice?  10\n",
      "La somme de tous les éléments:  2100\n",
      "------------------\n",
      "[[ 10  20  30  40  50]\n",
      " [ 60  70  80  90 100]\n",
      " [110 120 130 140 150]\n",
      " [160 170 180 190 200]]\n",
      "<class 'numpy.ndarray'>\n",
      "La plus grande ligne dans la matrice?  [160 170 180 190 200]\n",
      "La plus petite ligne dans la matrice?  [10 20 30 40 50]\n",
      "La somme de toutes les lignes en une ligne [340 380 420 460 500]\n",
      "------------------\n",
      "[[ 10  20  30  40  50]\n",
      " [ 60  70  80  90 100]\n",
      " [110 120 130 140 150]\n",
      " [160 170 180 190 200]]\n",
      "<class 'numpy.ndarray'>\n",
      "La plus grande colonne dans la matrice?  [ 50 100 150 200]\n",
      "La plus petite colonne dans la matrice?  [ 10  60 110 160]\n",
      "La somme de toutes les colonnes en une ligne [150 400 650 900]\n"
     ]
    }
   ],
   "source": [
    "arrayTest = np.arange(10,201,10).reshape(4,5)\n",
    "print(arrayTest)\n",
    "Max = np.max(arrayTest)\n",
    "print(type(Max))\n",
    "Min = np.min(arrayTest)\n",
    "Sum = np.sum(arrayTest)\n",
    "print(\"Le plus grand élément dans la matrice? \",Max)\n",
    "print(\"Le pluis petit élément dans la matrice? \",Min)\n",
    "print(\"La somme de tous les éléments: \",Sum)\n",
    "print(\"------------------\")\n",
    "print(arrayTest)\n",
    "MaxLigne = np.max(arrayTest,axis=0)\n",
    "print(type(MaxLigne))\n",
    "MinLigne = np.min(arrayTest,axis=0)\n",
    "SumLigne = np.sum(arrayTest,axis=0)\n",
    "print(\"La plus grande ligne dans la matrice? \",MaxLigne)\n",
    "print(\"La plus petite ligne dans la matrice? \",MinLigne)\n",
    "print(\"La somme de toutes les lignes en une ligne\",SumLigne)\n",
    "print(\"------------------\")\n",
    "print(arrayTest)\n",
    "MaxLigne = np.max(arrayTest,axis=1)\n",
    "print(type(MaxLigne))\n",
    "MinLigne = np.min(arrayTest,axis=1)\n",
    "SumLigne = np.sum(arrayTest,axis=1)\n",
    "print(\"La plus grande colonne dans la matrice? \",MaxLigne)\n",
    "print(\"La plus petite colonne dans la matrice? \",MinLigne)\n",
    "print(\"La somme de toutes les colonnes en une ligne\",SumLigne)"
   ]
  },
  {
   "cell_type": "markdown",
   "metadata": {},
   "source": [
    "### Statistiques Max Min Average Médian"
   ]
  },
  {
   "cell_type": "code",
   "execution_count": 99,
   "metadata": {},
   "outputs": [
    {
     "name": "stdout",
     "output_type": "stream",
     "text": [
      "[[2 4 8 9]\n",
      " [1 7 4 5]\n",
      " [5 7 1 4]]\n",
      "Le plus grand élément dans a : \n",
      "9\n",
      "Le plus petit élément dans a : \n",
      "1\n",
      "La moyenne de chaque élément\n",
      "4.75\n",
      "La médian de chaque élément\n",
      "4.5\n",
      "------------\n",
      "Les plus grands éléments dans chaque colonne\n",
      "[5 7 8 9]\n",
      "Les plus petits éléments dans chaque colonne\n",
      "[1 4 1 4]\n",
      "Range pour chaque colonne\n",
      "[4 3 7 5]\n",
      "------------\n",
      "Les plus grands éléments dans chaque ligne\n",
      "[9 7 7]\n",
      "Les plus petits éléments dans chque ligne\n",
      "[2 1 1]\n",
      "Range pour chaque ligne\n",
      "[7 6 6]\n"
     ]
    }
   ],
   "source": [
    "a = [[2, 4, 8, 9], [1, 7, 4, 5], [5, 7, 1, 4]]\n",
    "a = np.array(a)\n",
    "print(a)\n",
    "print(\"Le plus grand élément dans a : \")\n",
    "Max = np.max(a)\n",
    "print(Max)\n",
    "print(\"Le plus petit élément dans a : \")\n",
    "Min = np.min(a)\n",
    "print(Min)\n",
    "print(\"La moyenne de chaque élément\")\n",
    "Moyenne = np.average(a)\n",
    "print(Moyenne)\n",
    "print(\"La médian de chaque élément\")\n",
    "Médian = np.median(a)\n",
    "print(Médian)\n",
    "print(\"------------\")\n",
    "print(\"Les plus grands éléments dans chaque colonne\")\n",
    "MaxColonne = a.max(axis=0)\n",
    "print(MaxColonne)\n",
    "print(\"Les plus petits éléments dans chaque colonne\")\n",
    "MinColonne = a.min(axis=0)\n",
    "print(MinColonne)\n",
    "print(\"Range pour chaque colonne\")\n",
    "RangeColonne = a.ptp(axis=0)\n",
    "print(RangeColonne)\n",
    "print(\"------------\")\n",
    "print(\"Les plus grands éléments dans chaque ligne\")\n",
    "MaxLigne = a.max(axis=1)\n",
    "print(MaxLigne)\n",
    "print(\"Les plus petits éléments dans chque ligne\")\n",
    "MinLigne = a.min(axis=1)\n",
    "print(MinLigne)\n",
    "print(\"Range pour chaque ligne\")\n",
    "RangeLigne = a.ptp(axis = 1)\n",
    "print(RangeLigne)"
   ]
  },
  {
   "cell_type": "markdown",
   "metadata": {},
   "source": [
    "### Sort"
   ]
  },
  {
   "cell_type": "code",
   "execution_count": 64,
   "metadata": {},
   "outputs": [
    {
     "name": "stdout",
     "output_type": "stream",
     "text": [
      "[[14 13 12 11]\n",
      " [10  9  8  7]\n",
      " [ 6  5  4  3]]\n",
      "[[11 12 13 14]\n",
      " [ 7  8  9 10]\n",
      " [ 3  4  5  6]]\n",
      "[[14 13 12 11]\n",
      " [10  9  8  7]\n",
      " [ 6  5  4  3]]\n"
     ]
    }
   ],
   "source": [
    "array = np.arange(14,2,-1).reshape(3,4)\n",
    "print(array)\n",
    "ordre = np.sort(array)#从小到大排列,array本身不改变\n",
    "print(ordre)\n",
    "print(array)"
   ]
  },
  {
   "cell_type": "code",
   "execution_count": 65,
   "metadata": {
    "scrolled": true
   },
   "outputs": [
    {
     "name": "stdout",
     "output_type": "stream",
     "text": [
      "[[ 2  6  0  4]\n",
      " [ 4  8  9  1]\n",
      " [10  2  3 11]]\n",
      "[[ 2  6  0  4]\n",
      " [ 4  8  9  1]\n",
      " [10  2  3 11]]\n",
      "[[ 0  2  4  6]\n",
      " [ 1  4  8  9]\n",
      " [ 2  3 10 11]]\n"
     ]
    }
   ],
   "source": [
    "a = np.array([[2, 6, 0, 4],[4, 8, 9, 1],[10, 2, 3, 11]])\n",
    "print(a)\n",
    "ordre = np.sort(a)\n",
    "print(a)\n",
    "print(ordre)"
   ]
  },
  {
   "cell_type": "markdown",
   "metadata": {},
   "source": [
    "### Transpose"
   ]
  },
  {
   "cell_type": "code",
   "execution_count": 73,
   "metadata": {},
   "outputs": [
    {
     "name": "stdout",
     "output_type": "stream",
     "text": [
      "[[ 0 10]\n",
      " [ 2 12]\n",
      " [ 4 14]\n",
      " [ 6 16]\n",
      " [ 8 18]]\n",
      "[[ 0 10]\n",
      " [ 2 12]\n",
      " [ 4 14]\n",
      " [ 6 16]\n",
      " [ 8 18]]\n"
     ]
    }
   ],
   "source": [
    "array = np.arange(0,20,2).reshape(2,5)\n",
    "arrayTransposer = np.transpose(array)\n",
    "print(arrayTransposer)\n",
    "arrayTransposer = array.T\n",
    "print(arrayTransposer)"
   ]
  },
  {
   "cell_type": "markdown",
   "metadata": {},
   "source": [
    "### Clip\n",
    "\n",
    "###### Clip(a,5,9) 小于5的等于5，大于9的等于9"
   ]
  },
  {
   "cell_type": "code",
   "execution_count": 76,
   "metadata": {},
   "outputs": [
    {
     "name": "stdout",
     "output_type": "stream",
     "text": [
      "[[ 0  1  2  3  4  5  6]\n",
      " [ 7  8  9 10 11 12 13]\n",
      " [14 15 16 17 18 19 20]]\n",
      "[[5 5 5 5 5 5 6]\n",
      " [7 8 9 9 9 9 9]\n",
      " [9 9 9 9 9 9 9]]\n"
     ]
    }
   ],
   "source": [
    "array=np.arange(21).reshape(3,7)\n",
    "print(array)\n",
    "arrayClip = np.clip(array,5,9)\n",
    "print(arrayClip)"
   ]
  },
  {
   "cell_type": "markdown",
   "metadata": {},
   "source": [
    "### Average Median "
   ]
  },
  {
   "cell_type": "code",
   "execution_count": 82,
   "metadata": {},
   "outputs": [
    {
     "name": "stdout",
     "output_type": "stream",
     "text": [
      "[[ 0  1  2  3  4  5  6]\n",
      " [ 7  8  9 10 11 12 13]\n",
      " [14 15 16 17 18 19 20]]\n",
      "10.0\n",
      "10.0\n"
     ]
    }
   ],
   "source": [
    "print(array)\n",
    "Moyenne = np.average(array)\n",
    "print(Moyenne)\n",
    "Médian = np.median(array)\n",
    "print(Médian)"
   ]
  },
  {
   "cell_type": "markdown",
   "metadata": {},
   "source": [
    "### Indexing\n",
    "\n",
    "###### 找到最大值的index"
   ]
  },
  {
   "cell_type": "code",
   "execution_count": 113,
   "metadata": {
    "scrolled": true
   },
   "outputs": [
    {
     "name": "stdout",
     "output_type": "stream",
     "text": [
      "[[  1   2   3   4   5   6   7   8   9  10]\n",
      " [ 11  12  13  14  15  16  17  18  19  20]\n",
      " [ 21  22  23  24  25  26  27  28  29  30]\n",
      " [ 31  32  33  34  35  36  37  38  39  40]\n",
      " [ 41  42  43  44  45  46  47  48  49  50]\n",
      " [ 51  52  53  54  55  56  57  58  59  60]\n",
      " [ 61  62  63  64  65  66  67  68  69  70]\n",
      " [ 71  72  73  74  75  76  77  78  79  80]\n",
      " [ 81  82  83  84  85  86  87  88  89  90]\n",
      " [ 91  92  93  94  95  96  97  98  99 100]]\n",
      "Maximum----- 100  Position----- 99\n",
      "Minimum----- 1  Position----- 0\n",
      "Maximums de Chaque ligne en array:\n",
      " [ 10  20  30  40  50  60  70  80  90 100]  \n",
      "Position dans la ligne:\n",
      " [9 9 9 9 9 9 9 9 9 9]\n",
      "Maximums de Chaque ligne en array:\n",
      " [ 91  92  93  94  95  96  97  98  99 100]  \n",
      "Position dans la colonne:\n",
      " [9 9 9 9 9 9 9 9 9 9]\n"
     ]
    }
   ],
   "source": [
    "a = np.arange(1,101).reshape(10,10)\n",
    "print(a)\n",
    "Max_a = np.max(a)\n",
    "Max_a_Position = np.argmbax(a)\n",
    "print(\"Maximum-----\",Max_a,\" Position-----\",Max_a_Position)\n",
    "Min_a = np.min(a)\n",
    "Min_a_Position = np.argmin(a)\n",
    "print(\"Minimum-----\",Min_a,\" Position-----\",Min_a_Position)\n",
    "Max_ligne = a.max(1)\n",
    "Max_ligne_Position = a.argmax(1)\n",
    "print(\"Maximums de Chaque ligne en array:\\n\",Max_ligne,\" \\nPosition dans la ligne:\\n\",Max_ligne_Position)\n",
    "Max_colonne = a.max(0)\n",
    "Max_colonne_Position = a.argmax(0)\n",
    "print(\"Maximums de Chaque ligne en array:\\n\",Max_colonne,\" \\nPosition dans la colonne:\\n\",Max_colonne_Position)"
   ]
  },
  {
   "cell_type": "markdown",
   "metadata": {},
   "source": [
    "### 遍历"
   ]
  },
  {
   "cell_type": "code",
   "execution_count": 21,
   "metadata": {
    "scrolled": true
   },
   "outputs": [
    {
     "name": "stdout",
     "output_type": "stream",
     "text": [
      "[[ 1  2  3  4  5]\n",
      " [ 6  7  8  9 10]\n",
      " [11 12 13 14 15]\n",
      " [16 17 18 19 20]] \n",
      "\n",
      "a[0] = \n",
      " [1 2 3 4 5]\n",
      "a[1] = \n",
      " [ 6  7  8  9 10]\n",
      "a[:][1] = \n",
      " [ 6  7  8  9 10]\n",
      "a[1:3] = \n",
      " [[ 6  7  8  9 10]\n",
      " [11 12 13 14 15]]\n",
      "a[1][1] = \n",
      " 7\n",
      "a[1,1] = \n",
      " 7\n",
      "a[:,1] = \n",
      " [ 2  7 12 17]\n",
      "a[:,1:2] = \n",
      " [[ 2]\n",
      " [ 7]\n",
      " [12]\n",
      " [17]]\n",
      "a[:,1:3] = \n",
      " [[ 2  3]\n",
      " [ 7  8]\n",
      " [12 13]\n",
      " [17 18]]\n",
      "a[1,1:3] = \n",
      " [7 8]\n",
      "a[:,0][1:3] = \n",
      " [ 6 11]\n",
      "-----------------------\n",
      "[1 2 3 4 5] \n",
      "\n",
      "[ 6  7  8  9 10] \n",
      "\n",
      "[11 12 13 14 15] \n",
      "\n",
      "[16 17 18 19 20] \n",
      "\n",
      "      \n",
      "[ 1  6 11 16] \n",
      "\n",
      "[ 2  7 12 17] \n",
      "\n",
      "[ 3  8 13 18] \n",
      "\n",
      "[ 4  9 14 19] \n",
      "\n",
      "[ 5 10 15 20] \n",
      "\n"
     ]
    }
   ],
   "source": [
    "a = np.arange(1,21).reshape(4,5)\n",
    "print(a,'\\n')\n",
    "print(\"a[0] = \\n\",a[0])# La première ligne\n",
    "print(\"a[1] = \\n\",a[1])# La deuxième Ligne\n",
    "print(\"a[:][1] = \\n\",a[:][1])# La deuxième ligne\n",
    "print(\"a[1:3] = \\n\",a[1:3])# Les deuxième et troisième lignes\n",
    "print(\"a[1][1] = \\n\",a[1][1])# Le deuxième élément de la deuxième ligne. La même logique \n",
    "print(\"a[1,1] = \\n\",a[1,1])# Le deuxième élément de la deuxième ligne\n",
    "print(\"a[:,1] = \\n\",a[:,1])# La deuxième colonne\n",
    "print(\"a[:,1:2] = \\n\",a[:,1:2])# La deuxième colonne\n",
    "print(\"a[:,1:3] = \\n\",a[:,1:3])# Les deuxième et troisième colonnes\n",
    "print(\"a[1,1:3] = \\n\",a[1,1:3])# Les deuxième et troisème éléments de la première ligne\n",
    "print(\"a[:,0][1:3] = \\n\",a[:,0][1:3])# Les deuxième et troisième éléments de la première colonne\n",
    "print(\"-----------------------\")\n",
    "for ligne in a:\n",
    "    print(ligne,\"\\n\")\n",
    "print(\"      \")\n",
    "for colonne in a.T:\n",
    "    print(colonne,\"\\n\")"
   ]
  },
  {
   "cell_type": "markdown",
   "metadata": {},
   "source": [
    "###  Trouver non-zéro\n",
    "\n",
    "\n",
    "##### retourner shape"
   ]
  },
  {
   "cell_type": "code",
   "execution_count": 115,
   "metadata": {},
   "outputs": [
    {
     "name": "stdout",
     "output_type": "stream",
     "text": [
      "[[  1   2   3   4   5   6   7   8   9  10]\n",
      " [ 11  12  13  14  15  16  17  18  19  20]\n",
      " [ 21  22  23  24  25  26  27  28  29  30]\n",
      " [ 31  32  33  34  35  36  37  38  39  40]\n",
      " [ 41  42  43  44  45  46  47  48  49  50]\n",
      " [ 51  52  53  54  55  56  57  58  59  60]\n",
      " [ 61  62  63  64  65  66  67  68  69  70]\n",
      " [ 71  72  73  74  75  76  77  78  79  80]\n",
      " [ 81  82  83  84  85  86  87  88  89  90]\n",
      " [ 91  92  93  94  95  96  97  98  99 100]]\n",
      "(array([0, 0, 0, 0, 0, 0, 0, 0, 0, 0, 1, 1, 1, 1, 1, 1, 1, 1, 1, 1, 2, 2,\n",
      "       2, 2, 2, 2, 2, 2, 2, 2, 3, 3, 3, 3, 3, 3, 3, 3, 3, 3, 4, 4, 4, 4,\n",
      "       4, 4, 4, 4, 4, 4, 5, 5, 5, 5, 5, 5, 5, 5, 5, 5, 6, 6, 6, 6, 6, 6,\n",
      "       6, 6, 6, 6, 7, 7, 7, 7, 7, 7, 7, 7, 7, 7, 8, 8, 8, 8, 8, 8, 8, 8,\n",
      "       8, 8, 9, 9, 9, 9, 9, 9, 9, 9, 9, 9]), array([0, 1, 2, 3, 4, 5, 6, 7, 8, 9, 0, 1, 2, 3, 4, 5, 6, 7, 8, 9, 0, 1,\n",
      "       2, 3, 4, 5, 6, 7, 8, 9, 0, 1, 2, 3, 4, 5, 6, 7, 8, 9, 0, 1, 2, 3,\n",
      "       4, 5, 6, 7, 8, 9, 0, 1, 2, 3, 4, 5, 6, 7, 8, 9, 0, 1, 2, 3, 4, 5,\n",
      "       6, 7, 8, 9, 0, 1, 2, 3, 4, 5, 6, 7, 8, 9, 0, 1, 2, 3, 4, 5, 6, 7,\n",
      "       8, 9, 0, 1, 2, 3, 4, 5, 6, 7, 8, 9]))\n"
     ]
    }
   ],
   "source": [
    "print(a)\n",
    "print(np.nonzero(a))"
   ]
  },
  {
   "cell_type": "markdown",
   "metadata": {},
   "source": [
    "### .copy()\n",
    "array这个元素传递有点意思的，就是如果直接a=b，其实从内存角度来考虑就相当于a和b指向了一样的元素内存空间，所以改变一个元素的值，另一个一样改变，如果想各是各的，并且还想传递另一个元素的值那就用a=b.copy()，所以这个还是需要注意的"
   ]
  },
  {
   "cell_type": "code",
   "execution_count": 125,
   "metadata": {},
   "outputs": [
    {
     "name": "stdout",
     "output_type": "stream",
     "text": [
      "a =  4836021872 [ 0  1  2  3  4  5  6  7  8  9 10]\n",
      "b =  4836021872 [ 0  1  2  3  4  5  6  7  8  9 10]\n",
      "a1 =  4766081952 [ 0  1  2  3  4  5  6  7  8  9 10]\n",
      "a =  4836021872 [ 0  4  2  3  4  5  6  7  8  9 10]\n",
      "b =  4836021872 [ 0  4  2  3  4  5  6  7  8  9 10]\n",
      "a1 =  4766081952 [ 0  1  2  3  4  5  6  7  8  9 10]\n"
     ]
    }
   ],
   "source": [
    "a = np.arange(11)\n",
    "b = a\n",
    "a1 = a.copy()\n",
    "print(\"a = \",id(a),a)\n",
    "print(\"b = \",id(b),b)\n",
    "print(\"a1 = \",id(a1),a1)\n",
    "a[1]=4\n",
    "print(\"a = \",id(a),a)\n",
    "print(\"b = \",id(b),b)\n",
    "print(\"a1 = \",id(a1),a1)"
   ]
  },
  {
   "cell_type": "markdown",
   "metadata": {},
   "source": [
    "### Vectorisation \n",
    "\n",
    "flattern"
   ]
  },
  {
   "cell_type": "code",
   "execution_count": 24,
   "metadata": {},
   "outputs": [
    {
     "name": "stdout",
     "output_type": "stream",
     "text": [
      "[[ 1  2  3  4  5]\n",
      " [ 6  7  8  9 10]\n",
      " [11 12 13 14 15]\n",
      " [16 17 18 19 20]]\n",
      "[ 1  2  3  4  5  6  7  8  9 10 11 12 13 14 15 16 17 18 19 20]\n"
     ]
    }
   ],
   "source": [
    "a = np.arange(1,21).reshape(4,5)\n",
    "print(a)\n",
    "b = a.flatten()\n",
    "print(b)"
   ]
  },
  {
   "cell_type": "markdown",
   "metadata": {},
   "source": [
    "### Merge"
   ]
  },
  {
   "cell_type": "code",
   "execution_count": 34,
   "metadata": {},
   "outputs": [
    {
     "name": "stdout",
     "output_type": "stream",
     "text": [
      "[[1 2 2]\n",
      " [2 2 3]]\n",
      "[[4 5 6]\n",
      " [7 8 9]]\n",
      "[[1 2 2]\n",
      " [2 2 3]\n",
      " [4 5 6]\n",
      " [7 8 9]]\n",
      "[[1 2 2 4 5 6]\n",
      " [2 2 3 7 8 9]]\n",
      "[[1 2 2 4 5 6]\n",
      " [2 2 3 7 8 9]]\n",
      "[[1 2 2]\n",
      " [2 2 3]\n",
      " [4 5 6]\n",
      " [7 8 9]\n",
      " [4 5 6]\n",
      " [7 8 9]]\n"
     ]
    }
   ],
   "source": [
    "a = np.array([[1,2,2],[2,2,3]])\n",
    "b = np.arange(4,10).reshape(2,3)\n",
    "print(a)\n",
    "print(b)\n",
    "vertical = np.vstack((a,b))\n",
    "print(vertical)\n",
    "horizontal = np.hstack((a,b))\n",
    "print(horizontal)\n",
    "Multi = np.concatenate((a,b),axis=1)\n",
    "print(Multi)\n",
    "Multi1 = np.concatenate((a,b,b),axis = 0)\n",
    "print(Multi1)"
   ]
  },
  {
   "cell_type": "markdown",
   "metadata": {},
   "source": [
    "### Découper"
   ]
  },
  {
   "cell_type": "code",
   "execution_count": 47,
   "metadata": {},
   "outputs": [
    {
     "name": "stdout",
     "output_type": "stream",
     "text": [
      "[array([[ 1,  2,  3,  4,  5],\n",
      "       [ 6,  7,  8,  9, 10]]), array([[11, 12, 13, 14, 15],\n",
      "       [16, 17, 18, 19, 20]])]\n",
      "[array([[ 1,  2],\n",
      "       [ 6,  7],\n",
      "       [11, 12],\n",
      "       [16, 17]]), array([[ 3,  4],\n",
      "       [ 8,  9],\n",
      "       [13, 14],\n",
      "       [18, 19]]), array([[ 5],\n",
      "       [10],\n",
      "       [15],\n",
      "       [20]])]\n"
     ]
    }
   ],
   "source": [
    "a = np.arange(1,21).reshape(4,5)\n",
    "b = np.array_split(a,2,axis=0)\n",
    "print(b)\n",
    "c = np.array_split(a,3,axis=1)\n",
    "print(c)"
   ]
  },
  {
   "cell_type": "markdown",
   "metadata": {},
   "source": [
    "### Exercice \n",
    "\n",
    "Soit M = \n",
    "\n",
    "###### (1 1 0 0\n",
    "######  0 1 1 0\n",
    "######  0 0 1 1\n",
    "######  0 0 0 1)\n",
    "Calculer M**n n>=3"
   ]
  },
  {
   "cell_type": "code",
   "execution_count": 2,
   "metadata": {},
   "outputs": [
    {
     "name": "stdout",
     "output_type": "stream",
     "text": [
      "[[1 1 0 0]\n",
      " [0 1 1 0]\n",
      " [0 0 1 1]\n",
      " [0 0 0 1]]\n"
     ]
    }
   ],
   "source": [
    "a = np.array([[1,1,0,0],[0,1,1,0],[0,0,1,1],[0,0,0,1]])\n",
    "print(a)"
   ]
  },
  {
   "cell_type": "code",
   "execution_count": 5,
   "metadata": {},
   "outputs": [
    {
     "name": "stdout",
     "output_type": "stream",
     "text": [
      "m**2 = \n",
      "\n",
      "[[1 2 1 0]\n",
      " [0 1 2 1]\n",
      " [0 0 1 2]\n",
      " [0 0 0 1]]\n"
     ]
    }
   ],
   "source": [
    "m=a.dot(a)\n",
    "print(\"m**2 = \\n\")\n",
    "print(m)"
   ]
  },
  {
   "cell_type": "code",
   "execution_count": 7,
   "metadata": {},
   "outputs": [
    {
     "name": "stdout",
     "output_type": "stream",
     "text": [
      "m** 3 \n",
      "\n",
      "[[ 1  7 21 35]\n",
      " [ 0  1  7 21]\n",
      " [ 0  0  1  7]\n",
      " [ 0  0  0  1]]\n",
      "m** 4 \n",
      "\n",
      "[[ 1  8 28 56]\n",
      " [ 0  1  8 28]\n",
      " [ 0  0  1  8]\n",
      " [ 0  0  0  1]]\n",
      "m** 5 \n",
      "\n",
      "[[ 1  9 36 84]\n",
      " [ 0  1  9 36]\n",
      " [ 0  0  1  9]\n",
      " [ 0  0  0  1]]\n",
      "m** 6 \n",
      "\n",
      "[[  1  10  45 120]\n",
      " [  0   1  10  45]\n",
      " [  0   0   1  10]\n",
      " [  0   0   0   1]]\n",
      "m** 7 \n",
      "\n",
      "[[  1  11  55 165]\n",
      " [  0   1  11  55]\n",
      " [  0   0   1  11]\n",
      " [  0   0   0   1]]\n",
      "m** 8 \n",
      "\n",
      "[[  1  12  66 220]\n",
      " [  0   1  12  66]\n",
      " [  0   0   1  12]\n",
      " [  0   0   0   1]]\n",
      "m** 9 \n",
      "\n",
      "[[  1  13  78 286]\n",
      " [  0   1  13  78]\n",
      " [  0   0   1  13]\n",
      " [  0   0   0   1]]\n"
     ]
    }
   ],
   "source": [
    "for i in range(3,10):\n",
    "    print(\"m**\",i,'\\n')\n",
    "    m = m.dot(a)\n",
    "    print(m)"
   ]
  },
  {
   "cell_type": "code",
   "execution_count": null,
   "metadata": {},
   "outputs": [],
   "source": []
  }
 ],
 "metadata": {
  "kernelspec": {
   "display_name": "Python 3",
   "language": "python",
   "name": "python3"
  },
  "language_info": {
   "codemirror_mode": {
    "name": "ipython",
    "version": 3
   },
   "file_extension": ".py",
   "mimetype": "text/x-python",
   "name": "python",
   "nbconvert_exporter": "python",
   "pygments_lexer": "ipython3",
   "version": "3.7.3"
  }
 },
 "nbformat": 4,
 "nbformat_minor": 2
}
