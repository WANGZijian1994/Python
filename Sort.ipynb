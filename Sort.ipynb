{
 "cells": [
  {
   "cell_type": "markdown",
   "metadata": {},
   "source": [
    "### Bubble Sort\n",
    "\n",
    "冒泡排序\n",
    "\n",
    "\n",
    "6 3 1 5 4 2\n",
    "Part 1:\n",
    "3 6 1 5 4 2\n",
    "1 3 6 5 4 2\n",
    "1 3 6 5 4 2\n",
    "1 3 6 5 4 2\n",
    "1 3 6 5 4 2 = L\n",
    "\n",
    "Part 2:\n",
    "1 3 6 5 4 2\n",
    "1 3 6 5 4 2\n",
    "1 3 6 5 4 2\n",
    "1 2 6 5 4 3 = L\n",
    "\n",
    "Part 3:\n",
    "1 2 5 6 4 3\n",
    "1 2 4 6 5 3\n",
    "1 2 3 6 5 4 = L\n",
    "\n",
    "Part 4:\n",
    "1 2 3 5 6 4\n",
    "1 2 3 4 6 5\n",
    "\n",
    "Part 5:\n",
    "1 2 3 4 5 6\n",
    "\n"
   ]
  },
  {
   "cell_type": "code",
   "execution_count": 27,
   "metadata": {},
   "outputs": [],
   "source": [
    "import time\n",
    "def Bubble_Sort(L):\n",
    "    t1 = time.time()\n",
    "    for i in range(len(L)):\n",
    "        flag = True # To be more time-friendly\n",
    "        for j in range(len(L)-i-1):\n",
    "            if(L[j]>L[j+1]):\n",
    "                L[j],L[j+1]=L[j+1],L[j]\n",
    "                flag = False\n",
    "        if(flag==True):break\n",
    "    t2 = time.time()-t1\n",
    "    return L,t2\n",
    "def sorted_Bubble(L):\n",
    "    L1 = L.copy()\n",
    "    for i in range(len(L)):\n",
    "        for j in range(1,len(L)-i):\n",
    "            if(L1[j-1]>L1[j]):\n",
    "                L1[j-1],L1[j]=L1[j],L1[j-1]\n",
    "    return L1"
   ]
  },
  {
   "cell_type": "code",
   "execution_count": 28,
   "metadata": {},
   "outputs": [
    {
     "data": {
      "text/plain": [
       "([1, 2, 3, 4, 5, 6], 1.0013580322265625e-05)"
      ]
     },
     "execution_count": 28,
     "metadata": {},
     "output_type": "execute_result"
    }
   ],
   "source": [
    "import time\n",
    "L = [6,3,1,5,4,2]\n",
    "Bubble_Sort(L)"
   ]
  },
  {
   "cell_type": "code",
   "execution_count": 29,
   "metadata": {},
   "outputs": [
    {
     "name": "stdout",
     "output_type": "stream",
     "text": [
      "[1, 2, 3, 4, 5, 6]\n",
      "L =  [6, 3, 1, 5, 4, 2]\n",
      "L =  [1, 2, 3, 4, 5, 6]\n"
     ]
    }
   ],
   "source": [
    "L = [6,3,1,5,4,2]\n",
    "print(sorted_Bubble(L))\n",
    "print(\"L = \",L)\n",
    "Bubble_Sort(L)\n",
    "print(\"L = \",L)"
   ]
  },
  {
   "cell_type": "code",
   "execution_count": 35,
   "metadata": {},
   "outputs": [
    {
     "name": "stdout",
     "output_type": "stream",
     "text": [
      "i =  0 j =  1\n",
      "[3, 6, 1, 5, 4, 2]\n",
      "i =  0 j =  2\n",
      "[1, 6, 3, 5, 4, 2]\n",
      "i =  1 j =  2\n",
      "[1, 3, 6, 5, 4, 2]\n",
      "i =  1 j =  5\n",
      "[1, 2, 6, 5, 4, 3]\n",
      "i =  2 j =  3\n",
      "[1, 2, 5, 6, 4, 3]\n",
      "i =  2 j =  4\n",
      "[1, 2, 4, 6, 5, 3]\n",
      "i =  2 j =  5\n",
      "[1, 2, 3, 6, 5, 4]\n",
      "i =  3 j =  4\n",
      "[1, 2, 3, 5, 6, 4]\n",
      "i =  3 j =  5\n",
      "[1, 2, 3, 4, 6, 5]\n",
      "i =  4 j =  5\n",
      "[1, 2, 3, 4, 5, 6]\n"
     ]
    }
   ],
   "source": [
    "l = [6,3,1,5,4,2]\n",
    "for i in range(len(L)):\n",
    "    for j in range(i+1,len(L)):\n",
    "        if(l[i]>l[j]):\n",
    "            l[i],l[j]=l[j],l[i]\n",
    "            print(\"i = \",i,\"j = \",j)\n",
    "            print(l)"
   ]
  },
  {
   "cell_type": "markdown",
   "metadata": {},
   "source": [
    "### Insertion Sort\n",
    "\n",
    "27 10 13 12 5\n",
    "\n",
    "27|10 13 12 5\n",
    "10 27|13 12 5\n",
    "10 13 27|12 5\n",
    "10 12 13 27|5\n",
    "5 10 12 13 27|"
   ]
  },
  {
   "cell_type": "code",
   "execution_count": 34,
   "metadata": {},
   "outputs": [
    {
     "name": "stdout",
     "output_type": "stream",
     "text": [
      "([1, 2, 3, 4, 5, 6], 7.152557373046875e-06)\n",
      "([1, 2, 3, 4, 5, 6], 1.9073486328125e-06)\n"
     ]
    }
   ],
   "source": [
    "def Insertion_Sort(L):\n",
    "    t1 = time.time()\n",
    "    for i in range(1,len(L)):\n",
    "        for j in range(i):\n",
    "            if(L[i]<L[j]):\n",
    "                L[i],L[j]=L[j],L[i] \n",
    "    t2 = time.time() - t1\n",
    "    return L,t2\n",
    "L = [6,3,1,5,4,2]\n",
    "print(Insertion_Sort(L))\n",
    "print(Bubble_Sort(L))"
   ]
  },
  {
   "cell_type": "code",
   "execution_count": 32,
   "metadata": {},
   "outputs": [
    {
     "data": {
      "text/plain": [
       "([1, 2, 3, 4, 5, 6, 7, 8, 9, 10], 1.1920928955078125e-05)"
      ]
     },
     "execution_count": 32,
     "metadata": {},
     "output_type": "execute_result"
    }
   ],
   "source": [
    "Insertion_Sort([1,3,5,7,9,2,4,6,8,10])"
   ]
  },
  {
   "cell_type": "code",
   "execution_count": 33,
   "metadata": {},
   "outputs": [
    {
     "data": {
      "text/plain": [
       "([1, 2, 3, 4, 5, 6, 7, 8, 9, 10], 1.1920928955078125e-05)"
      ]
     },
     "execution_count": 33,
     "metadata": {},
     "output_type": "execute_result"
    }
   ],
   "source": [
    "Bubble_Sort([1,3,5,7,9,2,4,6,8,10])"
   ]
  },
  {
   "cell_type": "markdown",
   "metadata": {},
   "source": [
    "### Selection Sort"
   ]
  },
  {
   "cell_type": "code",
   "execution_count": 42,
   "metadata": {},
   "outputs": [
    {
     "data": {
      "text/plain": [
       "[1, 2, 3, 4, 5, 6, 7, 8, 9, 10]"
      ]
     },
     "execution_count": 42,
     "metadata": {},
     "output_type": "execute_result"
    }
   ],
   "source": [
    "L = [1,3,5,7,9,2,4,6,8,10]\n",
    "for i in range(len(L)):\n",
    "    for j in range(i+1,len(L)):\n",
    "        if(L[j]<L[i]):\n",
    "            L[i],L[j]=L[j],L[i]\n",
    "L"
   ]
  },
  {
   "cell_type": "code",
   "execution_count": 43,
   "metadata": {},
   "outputs": [],
   "source": [
    "def Selection_Sort(L):\n",
    "    t = time.time()\n",
    "    for i in range(len(L)):\n",
    "        for j in range(i+1,len(L)):\n",
    "            if(L[j]<L[i]):\n",
    "                L[i],L[j]=L[j],L[i]\n",
    "    return L,time.time()-t"
   ]
  },
  {
   "cell_type": "code",
   "execution_count": 44,
   "metadata": {},
   "outputs": [
    {
     "name": "stdout",
     "output_type": "stream",
     "text": [
      "([1, 2, 3, 4, 5, 6, 7, 8, 9, 10], 3.0994415283203125e-06)\n",
      "([1, 2, 3, 4, 5, 6, 7, 8, 9, 10], 7.867813110351562e-06)\n",
      "([1, 2, 3, 4, 5, 6, 7, 8, 9, 10], 7.867813110351562e-06)\n"
     ]
    }
   ],
   "source": [
    "print(Bubble_Sort(L))\n",
    "print(Insertion_Sort(L))\n",
    "print(Selection_Sort(L))"
   ]
  },
  {
   "cell_type": "markdown",
   "metadata": {},
   "source": [
    "### Comparaison entre l.sort() et sorted(I)\n",
    "\n",
    "l.sort() ------ nlog(n)\n",
    "sorted(l)------ "
   ]
  },
  {
   "cell_type": "code",
   "execution_count": 1,
   "metadata": {},
   "outputs": [],
   "source": [
    "import matplotlib \n",
    "from matplotlib import pyplot as plt"
   ]
  },
  {
   "cell_type": "code",
   "execution_count": 24,
   "metadata": {
    "scrolled": false
   },
   "outputs": [
    {
     "name": "stdout",
     "output_type": "stream",
     "text": [
      "100000\n",
      "200000\n",
      "300000\n",
      "400000\n",
      "500000\n",
      "600000\n"
     ]
    }
   ],
   "source": [
    "L1 = [i for i in range(2,100001,2)] + [i for i in range(1,100000,2)]\n",
    "L2 = L1 + L1\n",
    "L3 = L1 + L1 + L1 \n",
    "L4 = L1 * 4\n",
    "L5 = L1 * 5\n",
    "L6 = L1 * 6\n",
    "print(len(L1))\n",
    "print(len(L2))\n",
    "print(len(L3))\n",
    "print(len(L4))\n",
    "print(len(L5))\n",
    "print(len(L6))"
   ]
  },
  {
   "cell_type": "code",
   "execution_count": 25,
   "metadata": {},
   "outputs": [],
   "source": [
    "def timer(f):\n",
    "    import time\n",
    "    t1 = time.time()\n",
    "    f\n",
    "    t2 = time.time()\n",
    "    return t2 - t1"
   ]
  },
  {
   "cell_type": "code",
   "execution_count": 26,
   "metadata": {},
   "outputs": [],
   "source": [
    "Time_for_sort = [timer(L1.sort()),timer(L2.sort()),timer(L3.sort()),timer(L4.sort()),timer(L5.sort()),timer(L6.sort())]\n",
    "Time_for_sorted = [timer(sorted(L1)),timer(sorted(L2)),timer(sorted(L3)),timer(sorted(L4)),timer(sorted(L5)), timer(sorted(L6))]\n",
    "Length = [len(L1),len(L2),len(L3),len(L4),len(L5),len(L6)]"
   ]
  },
  {
   "cell_type": "code",
   "execution_count": 27,
   "metadata": {
    "scrolled": false
   },
   "outputs": [
    {
     "data": {
      "text/plain": [
       "[<matplotlib.lines.Line2D at 0x11682eb38>]"
      ]
     },
     "execution_count": 27,
     "metadata": {},
     "output_type": "execute_result"
    },
    {
     "data": {
      "image/png": "[encoded data removed]",
      "text/plain": [
       "<Figure size 432x288 with 1 Axes>"
      ]
     },
     "metadata": {
      "needs_background": "light"
     },
     "output_type": "display_data"
    }
   ],
   "source": [
    "plt.plot(Length,Time_for_sort)"
   ]
  },
  {
   "cell_type": "code",
   "execution_count": 28,
   "metadata": {
    "scrolled": false
   },
   "outputs": [
    {
     "data": {
      "text/plain": [
       "[<matplotlib.lines.Line2D at 0x116a5b7b8>]"
      ]
     },
     "execution_count": 28,
     "metadata": {},
     "output_type": "execute_result"
    },
    {
     "data": {
      "image/png": "[encoded data removed]",
      "text/plain": [
       "<Figure size 432x288 with 1 Axes>"
      ]
     },
     "metadata": {
      "needs_background": "light"
     },
     "output_type": "display_data"
    }
   ],
   "source": [
    "plt.plot(Length,Time_for_sorted)"
   ]
  },
  {
   "cell_type": "markdown",
   "metadata": {},
   "source": [
    "### Merge sort\n",
    "\n",
    "divide + conquer\n",
    "\n",
    "O(n*log(n))"
   ]
  },
  {
   "cell_type": "code",
   "execution_count": 50,
   "metadata": {},
   "outputs": [],
   "source": [
    "L1 = [3,5,6,9,2,4,7,8]\n",
    "L2 = [3,1,5,7,2,10,4]"
   ]
  },
  {
   "cell_type": "code",
   "execution_count": 53,
   "metadata": {},
   "outputs": [
    {
     "name": "stdout",
     "output_type": "stream",
     "text": [
      "[[3, 5], [6, 9], [2, 4], [7, 8]]\n",
      "[[3, 1], [5, 7], [2, 10]]\n"
     ]
    }
   ],
   "source": [
    "J1 = []\n",
    "for i in range(0,len(L1),2):\n",
    "    l1 = [L1[i]]\n",
    "    l2 = [L1[i+1]]\n",
    "    J1.append(l1+l2)\n",
    "print(J1)\n",
    "J2 = []\n",
    "for i in range(0,len(L2)-1,2):\n",
    "    l1 = [L2[i]]\n",
    "    l2 = [L2[i+1]]\n",
    "    J2.append(l1+l2)\n",
    "print(J2)"
   ]
  },
  {
   "cell_type": "code",
   "execution_count": 102,
   "metadata": {},
   "outputs": [],
   "source": [
    "def divide_list(L):\n",
    "    i = len(L)\n",
    "    if(i==1):\n",
    "        return L\n",
    "    if(i==2):\n",
    "        if(L[0]>L[1]):\n",
    "            L[0],L[1] = L[1],L[0]\n",
    "        return L\n",
    "    else:\n",
    "        J = []\n",
    "        if(i%2==1):\n",
    "            for j in range(0,i-1,2):\n",
    "                l1 = [L[j]]\n",
    "                l2 = [L[j+1]]\n",
    "                if(L[j]>L[j+1]):\n",
    "                    J.append(l2+l1)\n",
    "                else:\n",
    "                    J.append(l1+l2)\n",
    "            J.append([L[i-1]])\n",
    "        else:\n",
    "            for j in range(0,i,2):\n",
    "                l1 = [L[j]]\n",
    "                l2 = [L[j+1]]\n",
    "                if(L[j]>L[j+1]):\n",
    "                    J.append(l2+l1)\n",
    "                else:\n",
    "                    J.append(l1+l2)            \n",
    "        return J\n",
    "\n",
    "def merge_list(a,b):\n",
    "    i = int(0)\n",
    "    j = int(0)\n",
    "    k = int(0)\n",
    "    c = []\n",
    "    while(i<len(a) and j<len(b)):\n",
    "        if(a[i]<b[j]):\n",
    "            c.append(a[i])\n",
    "            i+=1\n",
    "        else:\n",
    "            c.append(b[j])\n",
    "            j+=1\n",
    "    while(i<len(a)):\n",
    "        c.append(a[i])\n",
    "        i+=1\n",
    "    while(j<len(b)):\n",
    "        c.append(b[j])\n",
    "        j+=1\n",
    "    return c\n",
    "\n",
    "def merge_Sort(L):\n",
    "    L1 = divide_list(L)\n",
    "    l = merge_list(L1[0],L1[1])\n",
    "    if(len(L)==1):\n",
    "        return L\n",
    "    if(len(L)==2):\n",
    "        if(L[0]>L[1]):\n",
    "            L[0],L[1]=L[1],L[0]\n",
    "        return L\n",
    "    if(len(L)>2 and len(L)%2==1):\n",
    "        for i in range(2,(1+len(L)//2)):\n",
    "            l = merge_list(l,L1[i])\n",
    "    else:\n",
    "        for i in range(1,len(L)//2):\n",
    "            l = merge_list(l,L1[i])\n",
    "    return l"
   ]
  },
  {
   "cell_type": "code",
   "execution_count": 105,
   "metadata": {
    "scrolled": true
   },
   "outputs": [
    {
     "name": "stdout",
     "output_type": "stream",
     "text": [
      "[[21, 30], [2, 3], [1, 2], [4, 5], [6, 7], [1, 2], [8, 12], [9, 10], [13, 14], [11]]\n",
      "<class 'list'>\n",
      "10\n",
      "19\n"
     ]
    }
   ],
   "source": [
    "L = [21,30,2,3,1,2,4,5,6,7,1,2,12,8,10,9,13,14,11]\n",
    "print(divide_list(L))\n",
    "print(type(divide_list(L)))\n",
    "print(len(divide_list(L)))\n",
    "print(len(L))"
   ]
  },
  {
   "cell_type": "code",
   "execution_count": 110,
   "metadata": {},
   "outputs": [
    {
     "name": "stdout",
     "output_type": "stream",
     "text": [
      "[1, 1, 2, 2, 2, 3, 4, 5, 6, 7, 8, 9, 10, 11, 12, 13, 14, 21, 30]\n",
      "[1, 1, 1, 1, 2, 2, 2, 2, 2, 2, 2, 3, 3, 3, 4, 4, 5, 5, 6, 6, 7, 7, 8, 8, 9, 9, 10, 10, 11, 11, 12, 12, 13, 13, 14, 14, 21, 21, 30, 30]\n",
      "[0.00029397010803222656, 0.00021505355834960938]\n"
     ]
    }
   ],
   "source": [
    "import time\n",
    "from matplotlib import pyplot as plt\n",
    "t1 = time.time()\n",
    "print(merge_Sort(L))\n",
    "t2 = time.time()\n",
    "t3 = time.time()\n",
    "print(merge_Sort(L+L))\n",
    "t4 = time.time()\n",
    "Y = [t2-t1,t4-t3]\n",
    "X = [17,34]\n",
    "print(Y)"
   ]
  },
  {
   "cell_type": "markdown",
   "metadata": {},
   "source": [
    "### Une autre méthode pour merge_Sort \n",
    "\n",
    "--On prend liste en Python comme un stack FIFO\n",
    "--On utilise la récursion"
   ]
  },
  {
   "cell_type": "code",
   "execution_count": 120,
   "metadata": {},
   "outputs": [],
   "source": [
    "def merge_lists(a:list,b:list)->list:\n",
    "    c=[]\n",
    "    while(len(a)>0 and len(b)>0):\n",
    "        if(a[0]>b[0]):\n",
    "            c.append(b[0])\n",
    "            b.remove(b[0])\n",
    "        else:\n",
    "            c.append(a[0])\n",
    "            a.remove(a[0])\n",
    "    if(len(a)>0):\n",
    "        c+=[a[i] for i in range(len(a))]\n",
    "    if(len(b)>0):\n",
    "        c+=[b[i] for i in range(len(b))]\n",
    "    return c\n",
    "\n",
    "def merge_sorted(num:list)->list:\n",
    "    if(len(num)<=1):\n",
    "        return num\n",
    "    else:\n",
    "        m = len(num)//2\n",
    "        a = merge_sorted(num[:m])\n",
    "        b = merge_sorted(num[m:])\n",
    "        return merge_lists(a,b)"
   ]
  },
  {
   "cell_type": "code",
   "execution_count": 119,
   "metadata": {},
   "outputs": [
    {
     "data": {
      "text/plain": [
       "[1, 2, 2, 3, 21, 30]"
      ]
     },
     "execution_count": 119,
     "metadata": {},
     "output_type": "execute_result"
    }
   ],
   "source": [
    "merge_sorted(L)"
   ]
  },
  {
   "cell_type": "markdown",
   "metadata": {},
   "source": [
    "### Quick Sort\n",
    "\n",
    "### Déviser pour régner---分治法\n",
    "\n",
    "1.首项为基准项\n",
    "\n",
    "2.如果扫描到的值大于基准数据就让high减1,如果发现有元素比该基准数据的值小(如上图中18<=tmp)，就将high位置的值赋值给low位置\n",
    "\n",
    "3.如果扫描到的值小于基准数据就让low加1,如果发现有元素大于基准数据的值(如上图46=>tmp)，就再将low位置的值赋值给high位置的值,\n",
    "\n",
    "4.递归的方式分别对前半部分和后半部分排序\n",
    "\n",
    "Source : https://blog.csdn.net/nrsc272420199/article/details/82587933"
   ]
  },
  {
   "cell_type": "code",
   "execution_count": 127,
   "metadata": {
    "scrolled": false
   },
   "outputs": [],
   "source": [
    "def Partition(L):\n",
    "    tmp = L[0]\n",
    "    low = int(0)\n",
    "    high = int(len(L)-1)\n",
    "    while(low<=high):\n",
    "        while(L[high]>=tmp and low!=high):\n",
    "            high-=1\n",
    "            if(low>=high):\n",
    "                L[low]=tmp\n",
    "                break\n",
    "        else:\n",
    "            L[low]=L[high]\n",
    "            low+=1\n",
    "            while(L[low]<=tmp and low!=high):\n",
    "                low+=1\n",
    "                if(low>=high):\n",
    "                    L[low]=tmp\n",
    "                    break\n",
    "            else:\n",
    "                L[high]=L[low]\n",
    "                high-=1\n",
    "        if(low>=high):\n",
    "            L[low]=tmp\n",
    "            break\n",
    "    k = L.index(tmp)\n",
    "    return [L[:k],[tmp],L[k+1:]]"
   ]
  },
  {
   "cell_type": "code",
   "execution_count": 188,
   "metadata": {},
   "outputs": [],
   "source": [
    "L1 = [85, 24, 63, 45, 17,31, 96,94,59]\n",
    "L = [23,46,0,8,11,18]\n",
    "L2 = [4,5,3,8,2,9,7,1,6]\n",
    "L3 = [10,5,15]\n",
    "L4 = L1 + L2\n",
    "L5 = [1,3,2,2,4]"
   ]
  },
  {
   "cell_type": "code",
   "execution_count": 182,
   "metadata": {},
   "outputs": [],
   "source": [
    "def Quick_Sort(L):\n",
    "    tmp = Partition(L)\n",
    "    a = tmp[0]\n",
    "    b = tmp[1]\n",
    "    c = tmp[2]\n",
    "    print(\"a = \",a,\"b = \",b,\"c = \",c)\n",
    "    if(len(a)>1):\n",
    "        print(\"for a : \",len(a))\n",
    "        a = Quick_Sort(a)\n",
    "        print(\"a = \",a)\n",
    "    if(len(c)>1):\n",
    "        print(\"for c : \",len(c))\n",
    "        c = Quick_Sort(c)\n",
    "    return a+b+c"
   ]
  },
  {
   "cell_type": "code",
   "execution_count": 183,
   "metadata": {
    "scrolled": false
   },
   "outputs": [
    {
     "name": "stdout",
     "output_type": "stream",
     "text": [
      "a =  [18, 11, 0, 8] b =  [23] c =  [46]\n",
      "for a :  4\n",
      "a =  [8, 11, 0] b =  [18] c =  []\n",
      "for a :  3\n",
      "a =  [0] b =  [8] c =  [11]\n",
      "a =  [0, 8, 11]\n",
      "a =  [0, 8, 11, 18]\n"
     ]
    },
    {
     "data": {
      "text/plain": [
       "[0, 8, 11, 18, 23, 46]"
      ]
     },
     "execution_count": 183,
     "metadata": {},
     "output_type": "execute_result"
    }
   ],
   "source": [
    "Quick_Sort(L)"
   ]
  },
  {
   "cell_type": "code",
   "execution_count": 184,
   "metadata": {},
   "outputs": [
    {
     "name": "stdout",
     "output_type": "stream",
     "text": [
      "a =  [59, 24, 63, 45, 17, 31] b =  [85] c =  [94, 96]\n",
      "for a :  6\n",
      "a =  [31, 24, 17, 45] b =  [59] c =  [63]\n",
      "for a :  4\n",
      "a =  [17, 24] b =  [31] c =  [45]\n",
      "for a :  2\n",
      "a =  [] b =  [17] c =  [24]\n",
      "a =  [17, 24]\n",
      "a =  [17, 24, 31, 45]\n",
      "a =  [17, 24, 31, 45, 59, 63]\n",
      "for c :  2\n",
      "a =  [] b =  [94] c =  [96]\n"
     ]
    },
    {
     "data": {
      "text/plain": [
       "[17, 24, 31, 45, 59, 63, 85, 94, 96]"
      ]
     },
     "execution_count": 184,
     "metadata": {},
     "output_type": "execute_result"
    }
   ],
   "source": [
    "Quick_Sort(L1)"
   ]
  },
  {
   "cell_type": "code",
   "execution_count": 185,
   "metadata": {},
   "outputs": [
    {
     "name": "stdout",
     "output_type": "stream",
     "text": [
      "a =  [1, 2, 3] b =  [4] c =  [8, 9, 7, 5, 6]\n",
      "for a :  3\n",
      "a =  [] b =  [1] c =  [2, 3]\n",
      "for c :  2\n",
      "a =  [] b =  [2] c =  [3]\n",
      "a =  [1, 2, 3]\n",
      "for c :  5\n",
      "a =  [6, 5, 7] b =  [8] c =  [9]\n",
      "for a :  3\n",
      "a =  [5] b =  [6] c =  [7]\n",
      "a =  [5, 6, 7]\n"
     ]
    },
    {
     "data": {
      "text/plain": [
       "[1, 2, 3, 4, 5, 6, 7, 8, 9]"
      ]
     },
     "execution_count": 185,
     "metadata": {},
     "output_type": "execute_result"
    }
   ],
   "source": [
    "Quick_Sort(L2)"
   ]
  },
  {
   "cell_type": "code",
   "execution_count": 186,
   "metadata": {},
   "outputs": [
    {
     "name": "stdout",
     "output_type": "stream",
     "text": [
      "a =  [5] b =  [10] c =  [15]\n"
     ]
    },
    {
     "data": {
      "text/plain": [
       "[5, 10, 15]"
      ]
     },
     "execution_count": 186,
     "metadata": {},
     "output_type": "execute_result"
    }
   ],
   "source": [
    "Quick_Sort(L3)"
   ]
  },
  {
   "cell_type": "code",
   "execution_count": 187,
   "metadata": {
    "scrolled": true
   },
   "outputs": [
    {
     "name": "stdout",
     "output_type": "stream",
     "text": [
      "a =  [6, 24, 63, 45, 17, 31, 1, 7, 59, 4, 5, 3, 8, 2, 9] b =  [85] c =  [94, 96]\n",
      "for a :  15\n",
      "a =  [2, 3, 5, 4, 1] b =  [6] c =  [31, 7, 59, 17, 45, 63, 8, 24, 9]\n",
      "for a :  5\n",
      "a =  [1] b =  [2] c =  [5, 4, 3]\n",
      "for c :  3\n",
      "a =  [3, 4] b =  [5] c =  []\n",
      "for a :  2\n",
      "a =  [] b =  [3] c =  [4]\n",
      "a =  [3, 4]\n",
      "a =  [1, 2, 3, 4, 5]\n",
      "for c :  9\n",
      "a =  [9, 7, 24, 17, 8] b =  [31] c =  [63, 45, 59]\n",
      "for a :  5\n",
      "a =  [8, 7] b =  [9] c =  [17, 24]\n",
      "for a :  2\n",
      "a =  [7] b =  [8] c =  []\n",
      "a =  [7, 8]\n",
      "for c :  2\n",
      "a =  [] b =  [17] c =  [24]\n",
      "a =  [7, 8, 9, 17, 24]\n",
      "for c :  3\n",
      "a =  [59, 45] b =  [63] c =  []\n",
      "for a :  2\n",
      "a =  [45] b =  [59] c =  []\n",
      "a =  [45, 59]\n",
      "a =  [1, 2, 3, 4, 5, 6, 7, 8, 9, 17, 24, 31, 45, 59, 63]\n",
      "for c :  2\n",
      "a =  [] b =  [94] c =  [96]\n"
     ]
    },
    {
     "data": {
      "text/plain": [
       "[1, 2, 3, 4, 5, 6, 7, 8, 9, 17, 24, 31, 45, 59, 63, 85, 94, 96]"
      ]
     },
     "execution_count": 187,
     "metadata": {},
     "output_type": "execute_result"
    }
   ],
   "source": [
    "Quick_Sort(L4)"
   ]
  },
  {
   "cell_type": "code",
   "execution_count": 189,
   "metadata": {},
   "outputs": [
    {
     "name": "stdout",
     "output_type": "stream",
     "text": [
      "a =  [] b =  [1] c =  [3, 2, 2, 4]\n",
      "for c :  4\n",
      "a =  [2, 2] b =  [3] c =  [4]\n",
      "for a :  2\n",
      "a =  [] b =  [2] c =  [2]\n",
      "a =  [2, 2]\n"
     ]
    },
    {
     "data": {
      "text/plain": [
       "[1, 2, 2, 3, 4]"
      ]
     },
     "execution_count": 189,
     "metadata": {},
     "output_type": "execute_result"
    }
   ],
   "source": [
    "Quick_Sort(L5)"
   ]
  },
  {
   "cell_type": "markdown",
   "metadata": {},
   "source": [
    "### Exemple de la récursion\n",
    "\n",
    "Divider un gâteau pour que tout le monde puisse avoir 8g pour manger."
   ]
  },
  {
   "cell_type": "code",
   "execution_count": 203,
   "metadata": {},
   "outputs": [],
   "source": [
    "counter=0\n",
    "def couper_le_gâteau(gâteau,partition):\n",
    "    if(gâteau <=1):\n",
    "        print(\" Terminé. \")\n",
    "    else:\n",
    "        global counter\n",
    "        div = gâteau-partition\n",
    "        counter+=1\n",
    "        print(\"C'est la \",counter, \" ième partie.\")\n",
    "        gâteau = div\n",
    "        print(\"Il reste \",div,\" kg\")\n",
    "        couper_le_gâteau(gâteau,partition)"
   ]
  },
  {
   "cell_type": "code",
   "execution_count": 204,
   "metadata": {
    "scrolled": false
   },
   "outputs": [
    {
     "name": "stdout",
     "output_type": "stream",
     "text": [
      "C'est la  1  ième partie.\n",
      "Il reste  48  kg\n",
      "C'est la  2  ième partie.\n",
      "Il reste  40  kg\n",
      "C'est la  3  ième partie.\n",
      "Il reste  32  kg\n",
      "C'est la  4  ième partie.\n",
      "Il reste  24  kg\n",
      "C'est la  5  ième partie.\n",
      "Il reste  16  kg\n",
      "C'est la  6  ième partie.\n",
      "Il reste  8  kg\n",
      "C'est la  7  ième partie.\n",
      "Il reste  0  kg\n",
      " Terminé. \n"
     ]
    }
   ],
   "source": [
    "couper_le_gâteau(56,8)"
   ]
  },
  {
   "cell_type": "code",
   "execution_count": null,
   "metadata": {},
   "outputs": [],
   "source": []
  }
 ],
 "metadata": {
  "kernelspec": {
   "display_name": "Python 3",
   "language": "python",
   "name": "python3"
  },
  "language_info": {
   "codemirror_mode": {
    "name": "ipython",
    "version": 3
   },
   "file_extension": ".py",
   "mimetype": "text/x-python",
   "name": "python",
   "nbconvert_exporter": "python",
   "pygments_lexer": "ipython3",
   "version": "3.7.3"
  }
 },
 "nbformat": 4,
 "nbformat_minor": 2
}
