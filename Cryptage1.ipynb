{
 "cells": [
  {
   "cell_type": "code",
   "execution_count": 3,
   "metadata": {},
   "outputs": [
    {
     "name": "stdout",
     "output_type": "stream",
     "text": [
      "{'Y': 'A', 'Z': 'B', 'A': 'C', 'B': 'D', 'C': 'E', 'D': 'F', 'E': 'G', 'F': 'H', 'G': 'I', 'H': 'J', 'I': 'K', 'J': 'L', 'K': 'M', 'L': 'N', 'M': 'O', 'N': 'P', 'O': 'Q', 'P': 'R', 'Q': 'S', 'R': 'T', 'S': 'U', 'T': 'V', 'U': 'W', 'V': 'X', 'W': 'Y', 'X': 'Z'}\n",
      "FAJHFJXFWRTWNYZWNYJXFQZYFSY\n",
      "FQJCOFHYFJXY\n"
     ]
    }
   ],
   "source": [
    "alphabet=\"ABCDEFGHIJKLMNOPQRSTUVWXYZ\"\n",
    "alphabet_list=[]\n",
    "for i in alphabet:\n",
    "    alphabet_list.append(i)\n",
    "cryptage=alphabet[-2:]+alphabet[:24]\n",
    "cryptage_list=[]\n",
    "for i in cryptage:\n",
    "    cryptage_list.append(i)\n",
    "dic=dict(zip(cryptage_list,alphabet_list))\n",
    "print(dic)\n",
    "a=\"DYHFD HVDUP RULWX ULWHV DOXWD QW\"\n",
    "a=a.replace(\" \",\"\")\n",
    "b=[]\n",
    "for i in a:\n",
    "    b.append(dic[i])\n",
    "c=\"\".join(b)\n",
    "print(c)\n",
    "d='DO, HAM DF WDHVW'\n",
    "import re\n",
    "d=re.sub(\",| \",\"\",d)\n",
    "e=[]\n",
    "for i in d:\n",
    "    e.append(dic[i])\n",
    "f=\"\".join(e)\n",
    "print(f)"
   ]
  },
  {
   "cell_type": "code",
   "execution_count": 9,
   "metadata": {},
   "outputs": [
    {
     "name": "stdout",
     "output_type": "stream",
     "text": [
      "{'Y': 'A', 'Z': 'B', 'A': 'C', 'B': 'D', 'C': 'E', 'D': 'F', 'E': 'G', 'F': 'H', 'G': 'I', 'H': 'J', 'I': 'K', 'J': 'L', 'K': 'M', 'L': 'N', 'M': 'O', 'N': 'P', 'O': 'Q', 'P': 'R', 'Q': 'S', 'R': 'T', 'S': 'U', 'T': 'V', 'U': 'W', 'V': 'X', 'W': 'Y', 'X': 'Z', ' ': ' '}\n",
      "FAJHF JXFWR TWNYZ WNYJX FQZYF SY\n",
      "FQ JCO FH YFJXY\n"
     ]
    }
   ],
   "source": [
    "alphabet=\"ABCDEFGHIJKLMNOPQRSTUVWXYZ \"\n",
    "alphabet_list=[]\n",
    "for i in alphabet:\n",
    "    alphabet_list.append(i)\n",
    "cryptage=alphabet[-3:-1]+alphabet[:24]+\" \"\n",
    "cryptage_list=[]\n",
    "for i in cryptage:\n",
    "    cryptage_list.append(i)\n",
    "dic=dict(zip(cryptage_list,alphabet_list))\n",
    "print(dic)\n",
    "a=\"DYHFD HVDUP RULWX ULWHV DOXWD QW\"\n",
    "b=[]\n",
    "for i in a:\n",
    "    b.append(dic[i])\n",
    "c=\"\".join(b)\n",
    "print(c)\n",
    "d='DO, HAM DF WDHVW'\n",
    "import re\n",
    "d=re.sub(\",\",\"\",d)\n",
    "e=[]\n",
    "for i in d:\n",
    "    e.append(dic[i])\n",
    "f=\"\".join(e)\n",
    "print(f)"
   ]
  },
  {
   "cell_type": "code",
   "execution_count": 1,
   "metadata": {},
   "outputs": [
    {
     "name": "stdout",
     "output_type": "stream",
     "text": [
      "le lapin et\n",
      " la belette\n",
      "l1= ['le', 'lapin', 'et', 'la', 'belette']\n",
      "l2= ['le lapin et', ' la belette']\n"
     ]
    }
   ],
   "source": [
    "p='le lapin et\\n la belette'\n",
    "print(p)\n",
    "l1=p.split()\n",
    "l2=p.splitlines()\n",
    "print('l1=',l1)\n",
    "print('l2=',l2)"
   ]
  },
  {
   "cell_type": "code",
   "execution_count": 2,
   "metadata": {},
   "outputs": [
    {
     "name": "stdout",
     "output_type": "stream",
     "text": [
      "message= Bonjour\n",
      "cle= 5\n",
      "message code= GTSOTZW\n"
     ]
    }
   ],
   "source": [
    "# code_cesar\n",
    "# définir l'entrée et la sortie\n",
    "def coder(message,cle):\n",
    "    alphabet=['A', 'B', 'C', 'D', 'E', 'F', 'G', 'H', 'I', 'J','K', 'L', 'M', 'N', 'O', 'P', 'Q', 'R', 'S', 'T', 'U', 'V','W', 'X', 'Y', 'Z']\n",
    "    message_code=\"\"\n",
    "    for caractere in message:\n",
    "        position=alphabet.index(caractere)# pour indiquer la position du caractère en en donnant l'indice\n",
    "        caractere_code=alphabet[position+cle]# pour \n",
    "        message_code+=caractere_code\n",
    "    return message_code\n",
    "message_a_coder='Bonjour'\n",
    "cle=5\n",
    "message_bien_code=coder(message_a_coder.upper(),cle)\n",
    "print('message=',message_a_coder)\n",
    "print('cle=',cle)\n",
    "print('message code=',message_bien_code)"
   ]
  },
  {
   "cell_type": "code",
   "execution_count": 7,
   "metadata": {},
   "outputs": [
    {
     "name": "stdout",
     "output_type": "stream",
     "text": [
      "Message à coder: BONJOUR\n",
      "Cle INFOINFO\n",
      "Message_code:  JBSXWHW\n"
     ]
    }
   ],
   "source": [
    "# code_de_vigenere\n",
    "import json\n",
    "f=open(\"Epistemo-TD4-vigenere.json\")\n",
    "dico_vigenere=json.load(f)\n",
    "f.close()\n",
    "message_base=\"BONJOUR\"# seulements des majuscules.\n",
    "cle=\"INFO\"# La clé n'a pas de signification.\n",
    "while len(cle)<len(message_base):\n",
    "    cle+=cle\n",
    "print(\"Message à coder:\",message_base)\n",
    "print(\"Cle\",cle)\n",
    "message_code=\" \"\n",
    "cpt=0 # va encoder la position où l'on est dans le message à coder\n",
    "for caractere in message_base:\n",
    "    caractere_cle=cle[cpt]\n",
    "    caractere_code = dico_vigenere[caractere][caractere_cle] \n",
    "    message_code+=caractere_code\n",
    "    cpt+=1\n",
    "print(\"Message_code:\",message_code)"
   ]
  },
  {
   "cell_type": "code",
   "execution_count": null,
   "metadata": {},
   "outputs": [],
   "source": []
  }
 ],
 "metadata": {
  "kernelspec": {
   "display_name": "Python 3",
   "language": "python",
   "name": "python3"
  },
  "language_info": {
   "codemirror_mode": {
    "name": "ipython",
    "version": 3
   },
   "file_extension": ".py",
   "mimetype": "text/x-python",
   "name": "python",
   "nbconvert_exporter": "python",
   "pygments_lexer": "ipython3",
   "version": "3.6.5"
  }
 },
 "nbformat": 4,
 "nbformat_minor": 2
}
